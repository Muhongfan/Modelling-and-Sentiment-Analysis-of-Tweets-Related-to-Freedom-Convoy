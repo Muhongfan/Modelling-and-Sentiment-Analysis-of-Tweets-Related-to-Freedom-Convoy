{
 "cells": [
  {
   "cell_type": "markdown",
   "source": [
    "The codes have commented the ones thta applying the simple classifiers, as LR and NB, to the datasets with the pretrained word embeddings."
   ],
   "metadata": {
    "collapsed": false,
    "pycharm": {
     "name": "#%% md\n"
    },
    "id": "47aDT_rHBwOQ"
   }
  },
  {
   "cell_type": "code",
   "execution_count": 460,
   "outputs": [
    {
     "name": "stderr",
     "output_type": "stream",
     "text": [
      "[nltk_data] Downloading package punkt to /home/amber/nltk_data...\n",
      "[nltk_data]   Package punkt is already up-to-date!\n",
      "[nltk_data] Downloading package stopwords to /home/amber/nltk_data...\n",
      "[nltk_data]   Package stopwords is already up-to-date!\n",
      "[nltk_data] Downloading package averaged_perceptron_tagger to\n",
      "[nltk_data]     /home/amber/nltk_data...\n",
      "[nltk_data]   Package averaged_perceptron_tagger is already up-to-\n",
      "[nltk_data]       date!\n",
      "[nltk_data] Downloading package wordnet to /home/amber/nltk_data...\n",
      "[nltk_data]   Package wordnet is already up-to-date!\n"
     ]
    }
   ],
   "source": [
    "\n",
    "import pandas as pd\n",
    "import numpy as np\n",
    "import re, string\n",
    "import matplotlib.pyplot as plt\n",
    "import transformers\n",
    "import nltk\n",
    "\n",
    "from nltk.corpus import stopwords\n",
    "from nltk.tokenize import word_tokenize\n",
    "from nltk.stem import SnowballStemmer\n",
    "from nltk.corpus import wordnet\n",
    "from nltk.stem import WordNetLemmatizer\n",
    "\n",
    "nltk.download('punkt')\n",
    "nltk.download('stopwords')\n",
    "nltk.download('averaged_perceptron_tagger')\n",
    "nltk.download('wordnet')\n",
    "#for model-building\n",
    "from sklearn.model_selection import train_test_split\n",
    "from sklearn.linear_model import LogisticRegression\n",
    "from sklearn.naive_bayes import MultinomialNB\n",
    "from sklearn.metrics import classification_report\n",
    "import seaborn as sns\n",
    "import torch\n",
    "import gensim\n",
    "from gensim.models import Word2Vec\n"
   ],
   "metadata": {
    "pycharm": {
     "name": "#%%\n"
    },
    "colab": {
     "base_uri": "https://localhost:8080/"
    },
    "id": "EzNOaQPRBwOT",
    "outputId": "9a8f1f15-cba7-4094-ab8b-2028d19b3b75"
   }
  },
  {
   "cell_type": "markdown",
   "source": [],
   "metadata": {
    "collapsed": false,
    "id": "U3YGPZggBwOW",
    "pycharm": {
     "name": "#%% md\n"
    }
   }
  },
  {
   "cell_type": "code",
   "execution_count": 461,
   "outputs": [],
   "source": [
    "df = pd.read_csv('Freedom_Convoy.csv', index_col=0)\n"
   ],
   "metadata": {
    "pycharm": {
     "name": "#%%\n"
    },
    "id": "uRSTWslsBwOX"
   }
  },
  {
   "cell_type": "code",
   "execution_count": 462,
   "outputs": [
    {
     "data": {
      "text/plain": "                                                     body sentiment_category\n0       The only comment I have is that people should ...                NEG\n1       Honestly I just wish everyone would stop givin...                NEG\n2       Yes. I’m starting to miss all those posts for ...                NEG\n3       Imagine creating new accounts to feed anti vac...                NEG\n4           I’m still good to complain about them, right?                NEU\n...                                                   ...                ...\n130152                            Just being neighbourly!                NEU\n130153  I just recently heard that “sunshine” from 302...                NEU\n130154  They are free to do this, its not like people ...                NEU\n130155  I hope some of them do so they get charged. Wi...                NEG\n130156                              Also actual pollution                NEG\n\n[130156 rows x 2 columns]",
      "text/html": "<div>\n<style scoped>\n    .dataframe tbody tr th:only-of-type {\n        vertical-align: middle;\n    }\n\n    .dataframe tbody tr th {\n        vertical-align: top;\n    }\n\n    .dataframe thead th {\n        text-align: right;\n    }\n</style>\n<table border=\"1\" class=\"dataframe\">\n  <thead>\n    <tr style=\"text-align: right;\">\n      <th></th>\n      <th>body</th>\n      <th>sentiment_category</th>\n    </tr>\n  </thead>\n  <tbody>\n    <tr>\n      <th>0</th>\n      <td>The only comment I have is that people should ...</td>\n      <td>NEG</td>\n    </tr>\n    <tr>\n      <th>1</th>\n      <td>Honestly I just wish everyone would stop givin...</td>\n      <td>NEG</td>\n    </tr>\n    <tr>\n      <th>2</th>\n      <td>Yes. I’m starting to miss all those posts for ...</td>\n      <td>NEG</td>\n    </tr>\n    <tr>\n      <th>3</th>\n      <td>Imagine creating new accounts to feed anti vac...</td>\n      <td>NEG</td>\n    </tr>\n    <tr>\n      <th>4</th>\n      <td>I’m still good to complain about them, right?</td>\n      <td>NEU</td>\n    </tr>\n    <tr>\n      <th>...</th>\n      <td>...</td>\n      <td>...</td>\n    </tr>\n    <tr>\n      <th>130152</th>\n      <td>Just being neighbourly!</td>\n      <td>NEU</td>\n    </tr>\n    <tr>\n      <th>130153</th>\n      <td>I just recently heard that “sunshine” from 302...</td>\n      <td>NEU</td>\n    </tr>\n    <tr>\n      <th>130154</th>\n      <td>They are free to do this, its not like people ...</td>\n      <td>NEU</td>\n    </tr>\n    <tr>\n      <th>130155</th>\n      <td>I hope some of them do so they get charged. Wi...</td>\n      <td>NEG</td>\n    </tr>\n    <tr>\n      <th>130156</th>\n      <td>Also actual pollution</td>\n      <td>NEG</td>\n    </tr>\n  </tbody>\n</table>\n<p>130156 rows × 2 columns</p>\n</div>"
     },
     "execution_count": 462,
     "metadata": {},
     "output_type": "execute_result"
    }
   ],
   "source": [
    "df = df[df['body'].notnull()]\n",
    "df"
   ],
   "metadata": {
    "collapsed": false,
    "pycharm": {
     "name": "#%%\n"
    }
   }
  },
  {
   "cell_type": "markdown",
   "source": [
    "##Data Cleaning"
   ],
   "metadata": {
    "collapsed": false,
    "pycharm": {
     "name": "#%% md\n"
    }
   }
  },
  {
   "cell_type": "code",
   "execution_count": 463,
   "outputs": [
    {
     "name": "stdout",
     "output_type": "stream",
     "text": [
      "<class 'pandas.core.frame.DataFrame'>\n",
      "Int64Index: 130156 entries, 0 to 130156\n",
      "Data columns (total 2 columns):\n",
      " #   Column              Non-Null Count   Dtype \n",
      "---  ------              --------------   ----- \n",
      " 0   body                130156 non-null  object\n",
      " 1   sentiment_category  130156 non-null  object\n",
      "dtypes: object(2)\n",
      "memory usage: 3.0+ MB\n"
     ]
    }
   ],
   "source": [
    "df.info()"
   ],
   "metadata": {
    "collapsed": false,
    "pycharm": {
     "name": "#%%\n"
    }
   }
  },
  {
   "cell_type": "code",
   "execution_count": 464,
   "outputs": [
    {
     "data": {
      "text/plain": "<AxesSubplot:xlabel='sentiment_category', ylabel='count'>"
     },
     "execution_count": 464,
     "metadata": {},
     "output_type": "execute_result"
    },
    {
     "data": {
      "text/plain": "<Figure size 432x288 with 1 Axes>",
      "image/png": "[encoded data removed]"
     },
     "metadata": {},
     "output_type": "display_data"
    }
   ],
   "source": [
    "sns.countplot(df['sentiment_category'])"
   ],
   "metadata": {
    "collapsed": false,
    "pycharm": {
     "name": "#%%\n"
    }
   }
  },
  {
   "cell_type": "code",
   "execution_count": 465,
   "outputs": [
    {
     "data": {
      "text/plain": "count    130156.000000\nmean        130.901288\nstd         182.985155\nmin           7.000000\n25%          47.000000\n50%          84.000000\n75%         151.000000\nmax        9324.000000\nName: word_count, dtype: float64"
     },
     "execution_count": 465,
     "metadata": {},
     "output_type": "execute_result"
    }
   ],
   "source": [
    "df['word_count'] = df['body'].apply(len)\n",
    "df['word_count'].describe()"
   ],
   "metadata": {
    "collapsed": false,
    "pycharm": {
     "name": "#%%\n"
    }
   }
  },
  {
   "cell_type": "code",
   "execution_count": 466,
   "outputs": [
    {
     "data": {
      "text/plain": "<AxesSubplot:>"
     },
     "execution_count": 466,
     "metadata": {},
     "output_type": "execute_result"
    },
    {
     "data": {
      "text/plain": "<Figure size 432x288 with 1 Axes>",
      "image/png": "[encoded data removed]"
     },
     "metadata": {},
     "output_type": "display_data"
    }
   ],
   "source": [
    "df['word_count'].hist(bins=50)"
   ],
   "metadata": {
    "collapsed": false,
    "pycharm": {
     "name": "#%%\n"
    }
   }
  },
  {
   "cell_type": "code",
   "execution_count": 467,
   "outputs": [],
   "source": [
    "# g = sns.FacetGrid(df,col='sentiment_category')\n",
    "# g.map_dataframe(sns.histplot,'word_count', binrange=(0, 2000))"
   ],
   "metadata": {
    "collapsed": false,
    "pycharm": {
     "name": "#%%\n"
    }
   }
  },
  {
   "cell_type": "code",
   "execution_count": 468,
   "outputs": [
    {
     "data": {
      "text/plain": "<AxesSubplot:xlabel='word numbers', ylabel='# of moments'>"
     },
     "execution_count": 468,
     "metadata": {},
     "output_type": "execute_result"
    },
    {
     "data": {
      "text/plain": "<Figure size 432x288 with 1 Axes>",
      "image/png": "[encoded data removed]"
     },
     "metadata": {},
     "output_type": "display_data"
    }
   ],
   "source": [
    "length_order = [\"0-49\", \"50-99\", \"100-149\", \"150-199\", \"200-249\", \"250-299\", \"300-349\", \"350-399\", \"400-449\", \"450-499\",\">500\"]\n",
    "length_category = df['word_count'].apply(lambda x: length_order[min(10, int(x/50))])\n",
    "length_counts = pd.DataFrame(length_category.value_counts()).reset_index()\n",
    "length_counts.columns = ['word numbers', '# of moments']\n",
    "\n",
    "sns.barplot(x='word numbers', y='# of moments', data=length_counts, order=length_order)"
   ],
   "metadata": {
    "collapsed": false,
    "pycharm": {
     "name": "#%%\n"
    }
   }
  },
  {
   "cell_type": "code",
   "execution_count": 469,
   "outputs": [
    {
     "data": {
      "text/plain": "86063    * Fleury: Thanks businesses, local residents. ...\nName: body, dtype: object"
     },
     "execution_count": 469,
     "metadata": {},
     "output_type": "execute_result"
    }
   ],
   "source": [
    "df['body'][df['word_count'] == 9324]"
   ],
   "metadata": {
    "collapsed": false,
    "pycharm": {
     "name": "#%%\n"
    }
   }
  },
  {
   "cell_type": "code",
   "execution_count": 470,
   "outputs": [
    {
     "data": {
      "text/plain": "array([[1, 0, 0],\n       [1, 0, 0],\n       [1, 0, 0],\n       ...,\n       [0, 1, 0],\n       [1, 0, 0],\n       [1, 0, 0]], dtype=uint8)"
     },
     "execution_count": 470,
     "metadata": {},
     "output_type": "execute_result"
    }
   ],
   "source": [
    "y= pd.get_dummies(df['sentiment_category']).values\n",
    "num_classes = df['sentiment_category'].nunique()\n",
    "np.array(y)"
   ],
   "metadata": {
    "collapsed": false,
    "pycharm": {
     "name": "#%%\n"
    }
   }
  },
  {
   "cell_type": "code",
   "execution_count": 471,
   "outputs": [],
   "source": [
    "#df['labels'] = df['']"
   ],
   "metadata": {
    "collapsed": false,
    "pycharm": {
     "name": "#%%\n"
    }
   }
  },
  {
   "cell_type": "code",
   "execution_count": 472,
   "outputs": [],
   "source": [
    "# convert the original data to lowercase, strip and remove punctuations\n",
    "def clean_text(text):\n",
    "    text = text.lower()\n",
    "    text=text.strip()\n",
    "    text=re.compile('<.*?>').sub('', text)\n",
    "    text = re.compile('[%s]' % re.escape(string.punctuation)).sub(' ', text)\n",
    "    text = re.sub('\\s+', ' ', text)\n",
    "    text = re.sub(r'\\[[0-9]*\\]',' ',text)\n",
    "    text=re.sub(r'[^\\w\\s]', '', str(text).lower().strip())\n",
    "    text = re.sub(r'\\d',' ',text)\n",
    "    text = re.sub(r'\\s+',' ',text)\n",
    "    return text\n",
    "\n",
    "# Lexicon - based\n",
    "# STOPWORD REMOVAL\n",
    "def stopword(string):\n",
    "    a= [i for i in string.split() if i not in stopwords.words('english')]\n",
    "    return ' '.join(a)#LEMMATIZATION\n",
    "# Initialize the lemmatizer\n",
    "\n",
    "# #2. STEMMING\n",
    "# # Initialize the stemmer\n",
    "# snow = SnowballStemmer('english')\n",
    "# def stemming(string):\n",
    "#     a=[snow.stem(i) for i in word_tokenize(string) ]\n",
    "#     return \" \".join(a)\n",
    "\n",
    "# 3.\n",
    "wl = WordNetLemmatizer()\n",
    "# This is a helper function to map NTLK position tags\n",
    "def get_wordnet_pos(tag):\n",
    "    if tag.startswith('J'):\n",
    "        return wordnet.ADJ\n",
    "    elif tag.startswith('V'):\n",
    "        return wordnet.VERB\n",
    "    elif tag.startswith('N'):\n",
    "        return wordnet.NOUN\n",
    "    elif tag.startswith('R'):\n",
    "        return wordnet.ADV\n",
    "    else:\n",
    "        return wordnet.NOUN# Tokenize the sentence\n",
    "# Tokenize the sentence\n",
    "def lemmatizer(string):\n",
    "    word_pos_tags = nltk.pos_tag(word_tokenize(string)) # Get position tags\n",
    "    a=[wl.lemmatize(tag[0], get_wordnet_pos(tag[1])) for idx, tag in enumerate(word_pos_tags)] # Map the position tag and lemmatize the word/token\n",
    "    return \" \".join(a)"
   ],
   "metadata": {
    "pycharm": {
     "name": "#%%\n"
    },
    "id": "xGvMVF2fBwOo"
   }
  },
  {
   "cell_type": "code",
   "execution_count": 473,
   "outputs": [
    {
     "data": {
      "text/plain": "                                                body sentiment_category  \\\n0  The only comment I have is that people should ...                NEG   \n1  Honestly I just wish everyone would stop givin...                NEG   \n2  Yes. I’m starting to miss all those posts for ...                NEG   \n3  Imagine creating new accounts to feed anti vac...                NEG   \n4      I’m still good to complain about them, right?                NEU   \n\n   word_count                                         clean_text  \n0         502  comment people actually read protest trucker p...  \n1         174  honestly wish everyone would stop give loser a...  \n2          86  yes im start miss post every time bus get stic...  \n3          58   imagine create new account fee anti vacc garbage  \n4          45                       im still good complain right  ",
      "text/html": "<div>\n<style scoped>\n    .dataframe tbody tr th:only-of-type {\n        vertical-align: middle;\n    }\n\n    .dataframe tbody tr th {\n        vertical-align: top;\n    }\n\n    .dataframe thead th {\n        text-align: right;\n    }\n</style>\n<table border=\"1\" class=\"dataframe\">\n  <thead>\n    <tr style=\"text-align: right;\">\n      <th></th>\n      <th>body</th>\n      <th>sentiment_category</th>\n      <th>word_count</th>\n      <th>clean_text</th>\n    </tr>\n  </thead>\n  <tbody>\n    <tr>\n      <th>0</th>\n      <td>The only comment I have is that people should ...</td>\n      <td>NEG</td>\n      <td>502</td>\n      <td>comment people actually read protest trucker p...</td>\n    </tr>\n    <tr>\n      <th>1</th>\n      <td>Honestly I just wish everyone would stop givin...</td>\n      <td>NEG</td>\n      <td>174</td>\n      <td>honestly wish everyone would stop give loser a...</td>\n    </tr>\n    <tr>\n      <th>2</th>\n      <td>Yes. I’m starting to miss all those posts for ...</td>\n      <td>NEG</td>\n      <td>86</td>\n      <td>yes im start miss post every time bus get stic...</td>\n    </tr>\n    <tr>\n      <th>3</th>\n      <td>Imagine creating new accounts to feed anti vac...</td>\n      <td>NEG</td>\n      <td>58</td>\n      <td>imagine create new account fee anti vacc garbage</td>\n    </tr>\n    <tr>\n      <th>4</th>\n      <td>I’m still good to complain about them, right?</td>\n      <td>NEU</td>\n      <td>45</td>\n      <td>im still good complain right</td>\n    </tr>\n  </tbody>\n</table>\n</div>"
     },
     "execution_count": 473,
     "metadata": {},
     "output_type": "execute_result"
    }
   ],
   "source": [
    "def finalpreprocess(string):\n",
    "    return lemmatizer(stopword(clean_text(string)))\n",
    "df['clean_text'] = df['body'].apply(lambda x: finalpreprocess(x))\n",
    "df.head()"
   ],
   "metadata": {
    "pycharm": {
     "name": "#%%\n"
    },
    "id": "RPOtTIucBwOp",
    "outputId": "73c7d32a-9ac6-49ea-efd2-a6b84fa71fb1",
    "colab": {
     "base_uri": "https://localhost:8080/",
     "height": 719
    }
   }
  },
  {
   "cell_type": "markdown",
   "source": [],
   "metadata": {
    "collapsed": false,
    "pycharm": {
     "name": "#%% md\n"
    }
   }
  },
  {
   "cell_type": "markdown",
   "source": [
    "TRAIN TEST SPLITTING OF LABELLED DATASET"
   ],
   "metadata": {
    "collapsed": false,
    "pycharm": {
     "name": "#%% md\n"
    }
   }
  },
  {
   "cell_type": "code",
   "execution_count": 474,
   "outputs": [
    {
     "data": {
      "text/plain": "                                                     body sentiment_category  \\\n0       The only comment I have is that people should ...                NEG   \n1       Honestly I just wish everyone would stop givin...                NEG   \n2       Yes. I’m starting to miss all those posts for ...                NEG   \n3       Imagine creating new accounts to feed anti vac...                NEG   \n4           I’m still good to complain about them, right?                NEU   \n...                                                   ...                ...   \n130152                            Just being neighbourly!                NEU   \n130153  I just recently heard that “sunshine” from 302...                NEU   \n130154  They are free to do this, its not like people ...                NEU   \n130155  I hope some of them do so they get charged. Wi...                NEG   \n130156                              Also actual pollution                NEG   \n\n        word_count                                         clean_text  \n0              502  comment people actually read protest trucker p...  \n1              174  honestly wish everyone would stop give loser a...  \n2               86  yes im start miss post every time bus get stic...  \n3               58   imagine create new account fee anti vacc garbage  \n4               45                       im still good complain right  \n...            ...                                                ...  \n130152          23                                        neighbourly  \n130153          94   recently hear sunshine coventry resign idea mean  \n130154         109            free like people object protest protest  \n130155         100            hope get charge luck cop stand checking  \n130156          21                              also actual pollution  \n\n[130156 rows x 4 columns]",
      "text/html": "<div>\n<style scoped>\n    .dataframe tbody tr th:only-of-type {\n        vertical-align: middle;\n    }\n\n    .dataframe tbody tr th {\n        vertical-align: top;\n    }\n\n    .dataframe thead th {\n        text-align: right;\n    }\n</style>\n<table border=\"1\" class=\"dataframe\">\n  <thead>\n    <tr style=\"text-align: right;\">\n      <th></th>\n      <th>body</th>\n      <th>sentiment_category</th>\n      <th>word_count</th>\n      <th>clean_text</th>\n    </tr>\n  </thead>\n  <tbody>\n    <tr>\n      <th>0</th>\n      <td>The only comment I have is that people should ...</td>\n      <td>NEG</td>\n      <td>502</td>\n      <td>comment people actually read protest trucker p...</td>\n    </tr>\n    <tr>\n      <th>1</th>\n      <td>Honestly I just wish everyone would stop givin...</td>\n      <td>NEG</td>\n      <td>174</td>\n      <td>honestly wish everyone would stop give loser a...</td>\n    </tr>\n    <tr>\n      <th>2</th>\n      <td>Yes. I’m starting to miss all those posts for ...</td>\n      <td>NEG</td>\n      <td>86</td>\n      <td>yes im start miss post every time bus get stic...</td>\n    </tr>\n    <tr>\n      <th>3</th>\n      <td>Imagine creating new accounts to feed anti vac...</td>\n      <td>NEG</td>\n      <td>58</td>\n      <td>imagine create new account fee anti vacc garbage</td>\n    </tr>\n    <tr>\n      <th>4</th>\n      <td>I’m still good to complain about them, right?</td>\n      <td>NEU</td>\n      <td>45</td>\n      <td>im still good complain right</td>\n    </tr>\n    <tr>\n      <th>...</th>\n      <td>...</td>\n      <td>...</td>\n      <td>...</td>\n      <td>...</td>\n    </tr>\n    <tr>\n      <th>130152</th>\n      <td>Just being neighbourly!</td>\n      <td>NEU</td>\n      <td>23</td>\n      <td>neighbourly</td>\n    </tr>\n    <tr>\n      <th>130153</th>\n      <td>I just recently heard that “sunshine” from 302...</td>\n      <td>NEU</td>\n      <td>94</td>\n      <td>recently hear sunshine coventry resign idea mean</td>\n    </tr>\n    <tr>\n      <th>130154</th>\n      <td>They are free to do this, its not like people ...</td>\n      <td>NEU</td>\n      <td>109</td>\n      <td>free like people object protest protest</td>\n    </tr>\n    <tr>\n      <th>130155</th>\n      <td>I hope some of them do so they get charged. Wi...</td>\n      <td>NEG</td>\n      <td>100</td>\n      <td>hope get charge luck cop stand checking</td>\n    </tr>\n    <tr>\n      <th>130156</th>\n      <td>Also actual pollution</td>\n      <td>NEG</td>\n      <td>21</td>\n      <td>also actual pollution</td>\n    </tr>\n  </tbody>\n</table>\n<p>130156 rows × 4 columns</p>\n</div>"
     },
     "execution_count": 474,
     "metadata": {},
     "output_type": "execute_result"
    }
   ],
   "source": [
    "df"
   ],
   "metadata": {
    "collapsed": false,
    "pycharm": {
     "name": "#%%\n"
    }
   }
  },
  {
   "cell_type": "code",
   "execution_count": 475,
   "outputs": [
    {
     "name": "stdout",
     "output_type": "stream",
     "text": [
      "83299 26032 20825\n"
     ]
    }
   ],
   "source": [
    "from sklearn.model_selection import train_test_split\n",
    "X_train, x_test, Y_train, y_test = train_test_split(df[\"clean_text\"], y, test_size=0.2,shuffle=True)\n",
    "x_train, x_val, y_train, y_val = train_test_split(X_train, Y_train, test_size=0.2,shuffle=True)\n",
    "\n",
    "print(len(x_train),len(x_test),len(x_val))"
   ],
   "metadata": {
    "collapsed": false,
    "pycharm": {
     "name": "#%%\n"
    }
   }
  },
  {
   "cell_type": "markdown",
   "source": [
    "3). Logistic Regression with Word2Vec"
   ],
   "metadata": {
    "collapsed": false,
    "pycharm": {
     "name": "#%% md\n"
    },
    "id": "1FmdwhShBwOv"
   }
  },
  {
   "cell_type": "markdown",
   "source": [
    "Tokenized with Bert"
   ],
   "metadata": {
    "collapsed": false,
    "pycharm": {
     "name": "#%% md\n"
    },
    "id": "AsbEQjVkBwOw"
   }
  },
  {
   "cell_type": "code",
   "execution_count": 476,
   "outputs": [],
   "source": [
    "from transformers import BertTokenizer\n",
    "from torch.utils.data import TensorDataset, DataLoader, RandomSampler, SequentialSampler\n",
    "tokenizer = BertTokenizer.from_pretrained('bert-base-uncased', do_lower_case=True)#, model_max_length=512)\n"
   ],
   "metadata": {
    "pycharm": {
     "name": "#%%\n"
    },
    "id": "cJxf5V8EBwOx"
   }
  },
  {
   "cell_type": "code",
   "execution_count": 477,
   "outputs": [
    {
     "name": "stderr",
     "output_type": "stream",
     "text": [
      "Token indices sequence length is longer than the specified maximum sequence length for this model (1016 > 512). Running this sequence through the model will result in indexing errors\n",
      "Token indices sequence length is longer than the specified maximum sequence length for this model (653 > 512). Running this sequence through the model will result in indexing errors\n",
      "Token indices sequence length is longer than the specified maximum sequence length for this model (825 > 512). Running this sequence through the model will result in indexing errors\n",
      "Token indices sequence length is longer than the specified maximum sequence length for this model (1182 > 512). Running this sequence through the model will result in indexing errors\n",
      "Token indices sequence length is longer than the specified maximum sequence length for this model (534 > 512). Running this sequence through the model will result in indexing errors\n",
      "Token indices sequence length is longer than the specified maximum sequence length for this model (527 > 512). Running this sequence through the model will result in indexing errors\n",
      "Token indices sequence length is longer than the specified maximum sequence length for this model (1028 > 512). Running this sequence through the model will result in indexing errors\n",
      "Token indices sequence length is longer than the specified maximum sequence length for this model (1165 > 512). Running this sequence through the model will result in indexing errors\n",
      "Token indices sequence length is longer than the specified maximum sequence length for this model (643 > 512). Running this sequence through the model will result in indexing errors\n",
      "Token indices sequence length is longer than the specified maximum sequence length for this model (1304 > 512). Running this sequence through the model will result in indexing errors\n",
      "Token indices sequence length is longer than the specified maximum sequence length for this model (579 > 512). Running this sequence through the model will result in indexing errors\n",
      "Token indices sequence length is longer than the specified maximum sequence length for this model (1322 > 512). Running this sequence through the model will result in indexing errors\n",
      "Token indices sequence length is longer than the specified maximum sequence length for this model (824 > 512). Running this sequence through the model will result in indexing errors\n",
      "Token indices sequence length is longer than the specified maximum sequence length for this model (574 > 512). Running this sequence through the model will result in indexing errors\n",
      "Token indices sequence length is longer than the specified maximum sequence length for this model (1529 > 512). Running this sequence through the model will result in indexing errors\n",
      "Token indices sequence length is longer than the specified maximum sequence length for this model (569 > 512). Running this sequence through the model will result in indexing errors\n",
      "Token indices sequence length is longer than the specified maximum sequence length for this model (542 > 512). Running this sequence through the model will result in indexing errors\n",
      "Token indices sequence length is longer than the specified maximum sequence length for this model (602 > 512). Running this sequence through the model will result in indexing errors\n",
      "Token indices sequence length is longer than the specified maximum sequence length for this model (540 > 512). Running this sequence through the model will result in indexing errors\n",
      "Token indices sequence length is longer than the specified maximum sequence length for this model (558 > 512). Running this sequence through the model will result in indexing errors\n",
      "Token indices sequence length is longer than the specified maximum sequence length for this model (1053 > 512). Running this sequence through the model will result in indexing errors\n",
      "Token indices sequence length is longer than the specified maximum sequence length for this model (515 > 512). Running this sequence through the model will result in indexing errors\n",
      "Token indices sequence length is longer than the specified maximum sequence length for this model (543 > 512). Running this sequence through the model will result in indexing errors\n",
      "Token indices sequence length is longer than the specified maximum sequence length for this model (1288 > 512). Running this sequence through the model will result in indexing errors\n",
      "Token indices sequence length is longer than the specified maximum sequence length for this model (699 > 512). Running this sequence through the model will result in indexing errors\n",
      "Token indices sequence length is longer than the specified maximum sequence length for this model (611 > 512). Running this sequence through the model will result in indexing errors\n",
      "Token indices sequence length is longer than the specified maximum sequence length for this model (1224 > 512). Running this sequence through the model will result in indexing errors\n",
      "Token indices sequence length is longer than the specified maximum sequence length for this model (1014 > 512). Running this sequence through the model will result in indexing errors\n",
      "Token indices sequence length is longer than the specified maximum sequence length for this model (718 > 512). Running this sequence through the model will result in indexing errors\n",
      "Token indices sequence length is longer than the specified maximum sequence length for this model (1318 > 512). Running this sequence through the model will result in indexing errors\n",
      "Token indices sequence length is longer than the specified maximum sequence length for this model (526 > 512). Running this sequence through the model will result in indexing errors\n",
      "Token indices sequence length is longer than the specified maximum sequence length for this model (614 > 512). Running this sequence through the model will result in indexing errors\n",
      "Token indices sequence length is longer than the specified maximum sequence length for this model (535 > 512). Running this sequence through the model will result in indexing errors\n",
      "Token indices sequence length is longer than the specified maximum sequence length for this model (542 > 512). Running this sequence through the model will result in indexing errors\n",
      "Token indices sequence length is longer than the specified maximum sequence length for this model (664 > 512). Running this sequence through the model will result in indexing errors\n",
      "Token indices sequence length is longer than the specified maximum sequence length for this model (821 > 512). Running this sequence through the model will result in indexing errors\n",
      "Token indices sequence length is longer than the specified maximum sequence length for this model (747 > 512). Running this sequence through the model will result in indexing errors\n",
      "Token indices sequence length is longer than the specified maximum sequence length for this model (647 > 512). Running this sequence through the model will result in indexing errors\n",
      "Token indices sequence length is longer than the specified maximum sequence length for this model (931 > 512). Running this sequence through the model will result in indexing errors\n",
      "Token indices sequence length is longer than the specified maximum sequence length for this model (561 > 512). Running this sequence through the model will result in indexing errors\n",
      "Token indices sequence length is longer than the specified maximum sequence length for this model (1299 > 512). Running this sequence through the model will result in indexing errors\n",
      "Token indices sequence length is longer than the specified maximum sequence length for this model (834 > 512). Running this sequence through the model will result in indexing errors\n",
      "Token indices sequence length is longer than the specified maximum sequence length for this model (829 > 512). Running this sequence through the model will result in indexing errors\n",
      "Token indices sequence length is longer than the specified maximum sequence length for this model (599 > 512). Running this sequence through the model will result in indexing errors\n",
      "Token indices sequence length is longer than the specified maximum sequence length for this model (598 > 512). Running this sequence through the model will result in indexing errors\n",
      "Token indices sequence length is longer than the specified maximum sequence length for this model (697 > 512). Running this sequence through the model will result in indexing errors\n",
      "Token indices sequence length is longer than the specified maximum sequence length for this model (1786 > 512). Running this sequence through the model will result in indexing errors\n",
      "Token indices sequence length is longer than the specified maximum sequence length for this model (1971 > 512). Running this sequence through the model will result in indexing errors\n",
      "Token indices sequence length is longer than the specified maximum sequence length for this model (524 > 512). Running this sequence through the model will result in indexing errors\n",
      "Token indices sequence length is longer than the specified maximum sequence length for this model (935 > 512). Running this sequence through the model will result in indexing errors\n",
      "Token indices sequence length is longer than the specified maximum sequence length for this model (517 > 512). Running this sequence through the model will result in indexing errors\n",
      "Token indices sequence length is longer than the specified maximum sequence length for this model (573 > 512). Running this sequence through the model will result in indexing errors\n",
      "Token indices sequence length is longer than the specified maximum sequence length for this model (1233 > 512). Running this sequence through the model will result in indexing errors\n",
      "Token indices sequence length is longer than the specified maximum sequence length for this model (542 > 512). Running this sequence through the model will result in indexing errors\n",
      "Token indices sequence length is longer than the specified maximum sequence length for this model (623 > 512). Running this sequence through the model will result in indexing errors\n",
      "Token indices sequence length is longer than the specified maximum sequence length for this model (815 > 512). Running this sequence through the model will result in indexing errors\n",
      "Token indices sequence length is longer than the specified maximum sequence length for this model (1185 > 512). Running this sequence through the model will result in indexing errors\n",
      "Token indices sequence length is longer than the specified maximum sequence length for this model (524 > 512). Running this sequence through the model will result in indexing errors\n",
      "Token indices sequence length is longer than the specified maximum sequence length for this model (594 > 512). Running this sequence through the model will result in indexing errors\n",
      "Token indices sequence length is longer than the specified maximum sequence length for this model (588 > 512). Running this sequence through the model will result in indexing errors\n",
      "Token indices sequence length is longer than the specified maximum sequence length for this model (531 > 512). Running this sequence through the model will result in indexing errors\n",
      "Token indices sequence length is longer than the specified maximum sequence length for this model (1060 > 512). Running this sequence through the model will result in indexing errors\n",
      "Token indices sequence length is longer than the specified maximum sequence length for this model (648 > 512). Running this sequence through the model will result in indexing errors\n",
      "Token indices sequence length is longer than the specified maximum sequence length for this model (520 > 512). Running this sequence through the model will result in indexing errors\n",
      "Token indices sequence length is longer than the specified maximum sequence length for this model (521 > 512). Running this sequence through the model will result in indexing errors\n",
      "Token indices sequence length is longer than the specified maximum sequence length for this model (604 > 512). Running this sequence through the model will result in indexing errors\n",
      "Token indices sequence length is longer than the specified maximum sequence length for this model (759 > 512). Running this sequence through the model will result in indexing errors\n",
      "Token indices sequence length is longer than the specified maximum sequence length for this model (648 > 512). Running this sequence through the model will result in indexing errors\n",
      "Token indices sequence length is longer than the specified maximum sequence length for this model (622 > 512). Running this sequence through the model will result in indexing errors\n",
      "Token indices sequence length is longer than the specified maximum sequence length for this model (1086 > 512). Running this sequence through the model will result in indexing errors\n",
      "Token indices sequence length is longer than the specified maximum sequence length for this model (518 > 512). Running this sequence through the model will result in indexing errors\n",
      "Token indices sequence length is longer than the specified maximum sequence length for this model (534 > 512). Running this sequence through the model will result in indexing errors\n",
      "Token indices sequence length is longer than the specified maximum sequence length for this model (563 > 512). Running this sequence through the model will result in indexing errors\n",
      "Token indices sequence length is longer than the specified maximum sequence length for this model (517 > 512). Running this sequence through the model will result in indexing errors\n",
      "Token indices sequence length is longer than the specified maximum sequence length for this model (824 > 512). Running this sequence through the model will result in indexing errors\n",
      "Token indices sequence length is longer than the specified maximum sequence length for this model (946 > 512). Running this sequence through the model will result in indexing errors\n",
      "Token indices sequence length is longer than the specified maximum sequence length for this model (834 > 512). Running this sequence through the model will result in indexing errors\n",
      "Token indices sequence length is longer than the specified maximum sequence length for this model (864 > 512). Running this sequence through the model will result in indexing errors\n",
      "Token indices sequence length is longer than the specified maximum sequence length for this model (779 > 512). Running this sequence through the model will result in indexing errors\n",
      "Token indices sequence length is longer than the specified maximum sequence length for this model (606 > 512). Running this sequence through the model will result in indexing errors\n",
      "Token indices sequence length is longer than the specified maximum sequence length for this model (591 > 512). Running this sequence through the model will result in indexing errors\n",
      "Token indices sequence length is longer than the specified maximum sequence length for this model (545 > 512). Running this sequence through the model will result in indexing errors\n",
      "Token indices sequence length is longer than the specified maximum sequence length for this model (565 > 512). Running this sequence through the model will result in indexing errors\n",
      "Token indices sequence length is longer than the specified maximum sequence length for this model (577 > 512). Running this sequence through the model will result in indexing errors\n",
      "Token indices sequence length is longer than the specified maximum sequence length for this model (517 > 512). Running this sequence through the model will result in indexing errors\n",
      "Token indices sequence length is longer than the specified maximum sequence length for this model (946 > 512). Running this sequence through the model will result in indexing errors\n",
      "Token indices sequence length is longer than the specified maximum sequence length for this model (544 > 512). Running this sequence through the model will result in indexing errors\n",
      "Token indices sequence length is longer than the specified maximum sequence length for this model (630 > 512). Running this sequence through the model will result in indexing errors\n",
      "Token indices sequence length is longer than the specified maximum sequence length for this model (542 > 512). Running this sequence through the model will result in indexing errors\n",
      "Token indices sequence length is longer than the specified maximum sequence length for this model (1087 > 512). Running this sequence through the model will result in indexing errors\n",
      "Token indices sequence length is longer than the specified maximum sequence length for this model (800 > 512). Running this sequence through the model will result in indexing errors\n",
      "Token indices sequence length is longer than the specified maximum sequence length for this model (647 > 512). Running this sequence through the model will result in indexing errors\n",
      "Token indices sequence length is longer than the specified maximum sequence length for this model (1158 > 512). Running this sequence through the model will result in indexing errors\n",
      "Token indices sequence length is longer than the specified maximum sequence length for this model (538 > 512). Running this sequence through the model will result in indexing errors\n",
      "Token indices sequence length is longer than the specified maximum sequence length for this model (816 > 512). Running this sequence through the model will result in indexing errors\n",
      "Token indices sequence length is longer than the specified maximum sequence length for this model (621 > 512). Running this sequence through the model will result in indexing errors\n",
      "Token indices sequence length is longer than the specified maximum sequence length for this model (847 > 512). Running this sequence through the model will result in indexing errors\n",
      "Token indices sequence length is longer than the specified maximum sequence length for this model (695 > 512). Running this sequence through the model will result in indexing errors\n",
      "Token indices sequence length is longer than the specified maximum sequence length for this model (612 > 512). Running this sequence through the model will result in indexing errors\n",
      "Token indices sequence length is longer than the specified maximum sequence length for this model (826 > 512). Running this sequence through the model will result in indexing errors\n",
      "Token indices sequence length is longer than the specified maximum sequence length for this model (889 > 512). Running this sequence through the model will result in indexing errors\n",
      "Token indices sequence length is longer than the specified maximum sequence length for this model (1042 > 512). Running this sequence through the model will result in indexing errors\n"
     ]
    },
    {
     "name": "stdout",
     "output_type": "stream",
     "text": [
      "Max length:  1973\n"
     ]
    }
   ],
   "source": [
    "# Concatenate train data and test data\n",
    "all_text = df.body.values\n",
    "# Encode our concatenated data\n",
    "encoded_text = [tokenizer.encode(i, add_special_tokens=True) for i in all_text]\n",
    "#print(encoded_text)\n",
    "embed_vocab = {}\n",
    "for word in tokenizer.vocab.keys():\n",
    "    embed_vocab[word] = True\n",
    "#print(len(embed_vocab))\n",
    "# Find the maximum length\n",
    "max_len = max([len(i) for i in encoded_text])\n",
    "print('Max length: ', max_len)"
   ],
   "metadata": {
    "pycharm": {
     "name": "#%%\n"
    },
    "id": "cDfSQ6qQBwOx",
    "outputId": "ebb5f830-602c-4f3e-950c-4d0726d12fdd",
    "colab": {
     "base_uri": "https://localhost:8080/"
    }
   }
  },
  {
   "cell_type": "code",
   "execution_count": 478,
   "outputs": [],
   "source": [
    "text = df['clean_text']\n",
    "text_words = []\n",
    "text_vocab = {}\n",
    "for string in text:\n",
    "    # Don't include words that can't actually be mapped to a vector using embeddings\n",
    "    words = string.split()\n",
    "    filtered_words = []\n",
    "    for word in words:\n",
    "        text_vocab[word] = True\n",
    "        if embed_vocab.get(word) is not None:\n",
    "            filtered_words.append(word)\n",
    "    text_words.append(filtered_words)"
   ],
   "metadata": {
    "collapsed": false,
    "pycharm": {
     "name": "#%%\n"
    }
   }
  },
  {
   "cell_type": "code",
   "execution_count": 479,
   "outputs": [],
   "source": [
    "# print(text_words)"
   ],
   "metadata": {
    "collapsed": false,
    "pycharm": {
     "name": "#%%\n"
    }
   }
  },
  {
   "cell_type": "code",
   "execution_count": 480,
   "outputs": [
    {
     "name": "stdout",
     "output_type": "stream",
     "text": [
      "12785 words were found\n",
      "23143 words weren't found\n"
     ]
    }
   ],
   "source": [
    "def vocab_coverage(compared, base):  #, k):\n",
    "    hit, miss = 0, 0\n",
    "    for word in compared:\n",
    "        if base.get(word) is not None:\n",
    "            hit += 1\n",
    "        else:\n",
    "            miss += 1\n",
    "            #base[word] = np.random.uniform(-0.25, 0.25, k)\n",
    "    print(\"{} words were found\".format(hit))\n",
    "    print(\"{} words weren't found\".format(miss))\n",
    "    #print(\"new length of {} word_vectors\".format(len(embed_vocab)))\n",
    "\n",
    "vocab_coverage(text_vocab, embed_vocab)  # , 300)"
   ],
   "metadata": {
    "collapsed": false,
    "pycharm": {
     "name": "#%%\n"
    }
   }
  },
  {
   "cell_type": "code",
   "execution_count": 481,
   "outputs": [],
   "source": [
    "def preprocessing_data(data):\n",
    "    \"\"\"Perform required preprocessing steps for pretrained BERT.\n",
    "    @param    data (np.array): Array of texts to be processed.\n",
    "    @return   input_ids (torch.Tensor): Tensor of token ids to be fed to a model.\n",
    "    @return   attention_masks (torch.Tensor): Tensor of indices specifying which\n",
    "                  tokens should be attended to by the model.\n",
    "    \"\"\"\n",
    "    # Create empty lists to store outputs\n",
    "    input_ids = []\n",
    "    MAX_LEN = 128\n",
    "\n",
    "    # For every sentence...\n",
    "    for i in data:\n",
    "        # `encode_plus` will:\n",
    "        #    (1) Tokenize the sentence\n",
    "        #    (2) Add the `[CLS]` and `[SEP]` token to the start and end\n",
    "        #    (3) Truncate/Pad sentence to max length\n",
    "        #    (4) Map tokens to their IDs\n",
    "        #    (5) Create attention mask\n",
    "        #    (6) Return a dictionary of outputs\n",
    "        encoded_sent = tokenizer.encode_plus(\n",
    "            text = i ,  # Preprocess sentence\n",
    "            add_special_tokens=False,        # Add `[CLS]` and `[SEP]`\n",
    "            max_length=MAX_LEN,                  # Max length to truncate/pad\n",
    "            pad_to_max_length=True,         # Pad sentence to max length\n",
    "            #return_tensors='pt',           # Return PyTorch tensor\n",
    "            return_attention_mask=False      # Return attention mask\n",
    "            )\n",
    "\n",
    "        # Add the outputs to the lists\n",
    "        input_ids.append(encoded_sent.get('input_ids'))\n",
    "\n",
    "    # # Convert lists to tensors\n",
    "    # input_ids = torch.tensor(input_ids)\n",
    "    # attention_masks = torch.tensor(attention_masks)\n",
    "\n",
    "    return input_ids\n",
    "\n"
   ],
   "metadata": {
    "pycharm": {
     "name": "#%%\n"
    },
    "id": "8xlJ2nf3BwOy"
   }
  },
  {
   "cell_type": "markdown",
   "source": [],
   "metadata": {
    "collapsed": false,
    "id": "dHEjc6hgBwOy",
    "pycharm": {
     "name": "#%% md\n"
    }
   }
  },
  {
   "cell_type": "code",
   "execution_count": 482,
   "outputs": [],
   "source": [
    "#prepare input under agency/sociality/combined class\n",
    "train_inputs = preprocessing_data(x_train)\n",
    "val_inputs = preprocessing_data(x_val)\n",
    "test_inputs = preprocessing_data(x_test)\n",
    "#\n"
   ],
   "metadata": {
    "pycharm": {
     "name": "#%%\n"
    },
    "id": "LzMzVcKRBwOy",
    "colab": {
     "base_uri": "https://localhost:8080/"
    },
    "outputId": "17b828b1-5644-442f-e40e-0a9d2d41165a"
   }
  },
  {
   "cell_type": "code",
   "execution_count": 483,
   "outputs": [],
   "source": [
    "# test_inputs = preprocessing_data(df['clean_text'])"
   ],
   "metadata": {
    "collapsed": false,
    "pycharm": {
     "name": "#%%\n"
    }
   }
  },
  {
   "cell_type": "markdown",
   "source": [
    "Basic classifiers under Bert tokenizer"
   ],
   "metadata": {
    "collapsed": false,
    "pycharm": {
     "name": "#%% md\n"
    },
    "id": "Pg2XMPgCBwOz"
   }
  },
  {
   "cell_type": "code",
   "execution_count": 525,
   "outputs": [
    {
     "name": "stdout",
     "output_type": "stream",
     "text": [
      "<class 'numpy.ndarray'>\n",
      "<torch.utils.data.dataset.TensorDataset object at 0x7f0e12a53df0>\n"
     ]
    }
   ],
   "source": [
    "import torch\n",
    "from torch.utils.data import TensorDataset, DataLoader\n",
    "\n",
    "batch_size = 64\n",
    "print(type(y_train))\n",
    "\n",
    "datasets = {\n",
    "    'train': TensorDataset(torch.tensor(train_inputs), torch.tensor(y_train)),\n",
    "    'val': TensorDataset(torch.tensor(val_inputs),  torch.tensor(y_val)),\n",
    "    'test': TensorDataset(torch.tensor(test_inputs),  torch.tensor(y_test)),\n",
    "\n",
    "}\n",
    "print(datasets['train'])\n",
    "dataloaders = {\n",
    "    'train': DataLoader(datasets['train'], batch_size=batch_size),\n",
    "    'val': DataLoader(datasets['val'], batch_size=batch_size),\n",
    "    'test': DataLoader(datasets['test'], batch_size=batch_size),\n",
    "}"
   ],
   "metadata": {
    "pycharm": {
     "name": "#%%\n"
    },
    "id": "gNeS39X_BwO0"
   }
  },
  {
   "cell_type": "markdown",
   "source": [
    "2. [30 marks] Train an advanced classifier based on deep learning, such as fine-tuning BERT. You can try predicting both labels independently, or in a multi-task manner. Use part of the training data for validation, and keep aside the test data when choosing the best model.\n"
   ],
   "metadata": {
    "collapsed": false,
    "pycharm": {
     "name": "#%% md\n"
    },
    "id": "cE1MUmYaBwO1"
   }
  },
  {
   "cell_type": "markdown",
   "source": [],
   "metadata": {
    "collapsed": false,
    "id": "l8q6XsqaBwO2",
    "pycharm": {
     "name": "#%% md\n"
    }
   }
  },
  {
   "cell_type": "code",
   "execution_count": 526,
   "outputs": [
    {
     "name": "stdout",
     "output_type": "stream",
     "text": [
      "running on the GPU\n"
     ]
    }
   ],
   "source": [
    "\n",
    "if torch.cuda.is_available():\n",
    "    device = torch.device(\"cuda:0\")\n",
    "    print(\"running on the GPU\")\n",
    "else:\n",
    "    device = torch.device(\"cpu\")\n",
    "    print(\"running on the CPU\")\n"
   ],
   "metadata": {
    "pycharm": {
     "name": "#%%\n"
    },
    "id": "O6sI2YXABwO2",
    "outputId": "91e14c35-1a01-403a-96b2-e1a216b9c60a",
    "colab": {
     "base_uri": "https://localhost:8080/"
    }
   }
  },
  {
   "cell_type": "code",
   "execution_count": 534,
   "outputs": [],
   "source": [
    "import torch\n",
    "import torch.nn as nn\n",
    "import torch.nn.functional as F\n",
    "class SentimentCNN(nn.Module):\n",
    "    \"\"\"\n",
    "    The embedding layer + CNN model that will be used to perform sentiment analysis.\n",
    "    \"\"\"\n",
    "\n",
    "    def __init__(self, embed_model, vocab_size, output_size, embedding_dim, num_filters=100, kernel_sizes=[2, 4, 7], freeze_embeddings=True, drop_prob=0.2):\n",
    "        \"\"\"\n",
    "        Initialize the model by setting up the layers.\n",
    "        \"\"\"\n",
    "        super(SentimentCNN, self).__init__()\n",
    "\n",
    "        # set class vars\n",
    "        self.num_filters = num_filters\n",
    "        self.embedding_dim = embedding_dim\n",
    "\n",
    "        # 1. embedding layer\n",
    "        self.embedding = nn.Embedding(vocab_size, embedding_dim)\n",
    "        # set weights to pre-trained\n",
    "        #self.embedding.weight = nn.Parameter(torch.from_numpy(embed_model.vectors)) # all vectors\n",
    "        # (optional) freeze embedding weights\n",
    "        if freeze_embeddings:\n",
    "            self.embedding.requires_grad = False\n",
    "\n",
    "        # 2. convolutional layers\n",
    "        self.convs_1d = nn.ModuleList([\n",
    "            nn.Conv2d(1, num_filters, (k, embedding_dim), padding=(k-2, 0))\n",
    "            for k in kernel_sizes])\n",
    "\n",
    "        # 3. final, fully-connected layer for classification\n",
    "        self.fc = nn.Linear(len(kernel_sizes) * num_filters, output_size)\n",
    "\n",
    "        # 4. dropout and sigmoid layers\n",
    "        self.dropout = nn.Dropout(drop_prob)\n",
    "        self.act = nn.Softmax()\n",
    "\n",
    "    def conv_and_pool(self, x, conv):\n",
    "        \"\"\"\n",
    "        Convolutional + max pooling layer\n",
    "        \"\"\"\n",
    "        # squeeze last dim to get size: (batch_size, num_filters, conv_seq_length)\n",
    "        # conv_seq_length will be ~ 500\n",
    "        x = F.relu(conv(x)).squeeze(3)\n",
    "\n",
    "        # 1D pool over conv_seq_length\n",
    "        # squeeze to get size: (batch_size, num_filters)\n",
    "        x_max = F.max_pool1d(x, x.size(2)).squeeze(2)\n",
    "        return x_max\n",
    "\n",
    "    def forward(self, x):\n",
    "        \"\"\"\n",
    "        Defines how a batch of inputs, x, passes through the model layers.\n",
    "        Returns a single, sigmoid-activated class score as output.\n",
    "        \"\"\"\n",
    "        # embedded vectors\n",
    "        embeds = self.embedding(x) # (batch_size, seq_length, embedding_dim)\n",
    "        # embeds.unsqueeze(1) creates a channel dimension that conv layers expect\n",
    "        embeds = embeds.unsqueeze(1)\n",
    "\n",
    "        # get output of each conv-pool layer\n",
    "        conv_results = [self.conv_and_pool(embeds, conv) for conv in self.convs_1d]\n",
    "\n",
    "        # concatenate results and add dropout\n",
    "        x = torch.cat(conv_results, 1)\n",
    "        x = self.dropout(x)\n",
    "\n",
    "        # final logit\n",
    "        logit = self.fc(x)\n",
    "\n",
    "        # # sigmoid-activated --> a class score\n",
    "\n",
    "        return self.act(logit)"
   ],
   "metadata": {
    "pycharm": {
     "name": "#%%\n"
    },
    "id": "Ch4CEVv6BwO4"
   }
  },
  {
   "cell_type": "code",
   "execution_count": 535,
   "outputs": [],
   "source": [
    "\n",
    "from transformers import get_linear_schedule_with_warmup\n",
    "\n",
    "\n",
    "def initialize_model(device, epochs=4):\n",
    "    \"\"\"Initialize the Bert Classifier, the optimizer and the learning rate scheduler.\n",
    "    \"\"\"\n",
    "    # Instantiate model\n",
    "    vocab_size = len(embed_vocab)\n",
    "    output_size = 3\n",
    "    embedding_dim = 300\n",
    "    num_filters = 100\n",
    "    kernel_sizes = [2, 4, 7]\n",
    "\n",
    "    net = SentimentCNN(tokenizer, vocab_size, output_size, embedding_dim,\n",
    "                   num_filters, kernel_sizes)\n",
    "\n",
    "    # Tell PyTorch to run the model on GPU\n",
    "    if device:\n",
    "        net.to(torch.device(\"cuda:0\"))\n",
    "\n",
    "    # Create the optimizer\n",
    "    lr=0.001\n",
    "    optimizer = torch.optim.Adam(net.parameters(), lr=lr)\n",
    "\n",
    "    # Total number of training steps\n",
    "    total_steps = len(dataloaders['train']) * epochs\n",
    "\n",
    "    # # Set up the learning rate scheduler\n",
    "    scheduler = get_linear_schedule_with_warmup(optimizer,\n",
    "                                                num_warmup_steps=0, # Default value\n",
    "                                                num_training_steps=total_steps)\n",
    "    return net, optimizer, scheduler"
   ],
   "metadata": {
    "collapsed": false,
    "pycharm": {
     "name": "#%%\n"
    }
   }
  },
  {
   "cell_type": "code",
   "execution_count": 536,
   "outputs": [],
   "source": [
    "import numpy as np\n",
    "import torch.nn as nn\n",
    "import torch\n",
    "import random\n",
    "criterion = nn.CrossEntropyLoss()\n",
    "def set_seed(seed_value=42):\n",
    "    \"\"\"Set seed for reproducibility.\n",
    "    \"\"\"\n",
    "    random.seed(seed_value)\n",
    "    np.random.seed(seed_value)\n",
    "    torch.manual_seed(seed_value)\n",
    "    torch.cuda.manual_seed_all(seed_value)\n",
    "\n",
    "def evaluate(model, val_dataloader):\n",
    "    \"\"\"After the completion of each training epoch, measure the model's performance\n",
    "    on our validation set.\n",
    "    \"\"\"\n",
    "    # Put the model into the evaluation mode. The dropout layers are disabled during\n",
    "    # the test time.\n",
    "    model.eval()\n",
    "\n",
    "    # Tracking variables\n",
    "    val_accuracy = []\n",
    "    val_loss = []\n",
    "\n",
    "    # For each batch in our validation set...\n",
    "    for batch in val_dataloader:\n",
    "        # Load batch to GPU\n",
    "        inputs, labels = tuple(t.to(torch.device(\"cuda:0\")) for t in batch)\n",
    "\n",
    "        # Compute logits\n",
    "        with torch.no_grad():\n",
    "            logits = model(inputs)\n",
    "\n",
    "        # Compute loss\n",
    "        loss = criterion(logits, labels.float())\n",
    "        val_loss.append(loss.item())\n",
    "\n",
    "        # Get the predictions\n",
    "        preds = torch.round(logits)\n",
    "\n",
    "        # Calculate the accuracy rate\n",
    "        accuracy = (preds == labels).cpu().numpy().mean() * 100\n",
    "        val_accuracy.append(accuracy)\n",
    "\n",
    "    # Compute the average accuracy and loss over the validation set.\n",
    "    val_loss = np.mean(val_loss)\n",
    "    val_accuracy = np.mean(val_accuracy)\n",
    "\n",
    "    return val_loss, val_accuracy\n"
   ],
   "metadata": {
    "collapsed": false,
    "pycharm": {
     "name": "#%%\n"
    }
   }
  },
  {
   "cell_type": "code",
   "execution_count": 537,
   "outputs": [],
   "source": [
    "\n",
    "# training loop\n",
    "def train(model, train_loader, val_dataloader=None, epochs=4, evaluation=False):\n",
    "    device=torch.cuda.is_available()\n",
    "    if(device):\n",
    "        net.cuda()\n",
    "\n",
    "    counter = 0 # for printing\n",
    "    # Print the header of the result table\n",
    "    print(f\"{'Epoch':^7} | {'Train Loss':^12} | {'Val Loss':^10} | {'Val Acc':^9} \")\n",
    "    print(\"-\"*70)\n",
    "\n",
    "    #min_loss = np.Inf\n",
    "    # train for some number of epochs\n",
    "    #net.train()\n",
    "    for i in range(epochs):\n",
    "        # =======================================\n",
    "        #               Training\n",
    "        # =======================================\n",
    "\n",
    "        total_loss, batch_loss = 0, 0\n",
    "        net.train()\n",
    "\n",
    "        # batch loop\n",
    "\n",
    "        for step, batch in enumerate(train_loader):\n",
    "            counter +=1\n",
    "            # Load batch to GPU\n",
    "            if(device):\n",
    "                inputs, labels = tuple(t.to(torch.device(\"cuda:0\")) for t in batch)\n",
    "                inputs, labels = inputs.cuda(), labels.cuda()\n",
    "\n",
    "            # zero accumulated gradients\n",
    "            net.zero_grad()\n",
    "            # get the output from the model\n",
    "            output = net(inputs)\n",
    "            #y = torch.softmax(output, dim=1)\n",
    "\n",
    "            loss = criterion(output, labels.float())\n",
    "            total_loss += loss.item()\n",
    "\n",
    "            # Perform a backward pass to calculate gradients\n",
    "            loss.backward()\n",
    "            # Clip the norm of the gradients to 1.0 to prevent \"exploding gradients\"\n",
    "            torch.nn.utils.clip_grad_norm_(net.parameters(), 1.0)\n",
    "\n",
    "            # Update parameters and the learning rate\n",
    "            optimizer.step()\n",
    "            scheduler.step()\n",
    "\n",
    "\n",
    "\n",
    "        # Calculate the average loss over the entire training data\n",
    "        avg_train_loss = total_loss / len(train_loader)\n",
    "\n",
    "        # =======================================\n",
    "        #               Evaluation\n",
    "        # =======================================\n",
    "        if evaluation == True:\n",
    "            # After the completion of each training epoch, measure the model's performance\n",
    "            # on our validation set.\n",
    "            val_loss, val_accuracy = evaluate(model, val_dataloader)\n",
    "\n",
    "            # Print performance over the entire training data\n",
    "\n",
    "\n",
    "            print(f\"{i + 1:^7} | {'-':^7} | {avg_train_loss:^12.6f} | {val_loss:^10.6f} | {val_accuracy:^9.2f}\")\n",
    "\n",
    "\n",
    "    print(\"Training complete!\")\n",
    "\n"
   ],
   "metadata": {
    "collapsed": false,
    "pycharm": {
     "name": "#%%\n"
    }
   }
  },
  {
   "cell_type": "code",
   "execution_count": 538,
   "outputs": [
    {
     "name": "stdout",
     "output_type": "stream",
     "text": [
      " Epoch  |  Train Loss  |  Val Loss  |  Val Acc  \n",
      "----------------------------------------------------------------------\n"
     ]
    },
    {
     "name": "stderr",
     "output_type": "stream",
     "text": [
      "<ipython-input-534-afbeb48bc014>:74: UserWarning: Implicit dimension choice for softmax has been deprecated. Change the call to include dim=X as an argument.\n",
      "  return self.act(logit)\n"
     ]
    },
    {
     "name": "stdout",
     "output_type": "stream",
     "text": [
      "   1    |    -    |   0.892008   |  0.847333  |   79.54  \n",
      "   2    |    -    |   0.804231   |  0.828931  |   80.85  \n",
      "   3    |    -    |   0.771550   |  0.828931  |   80.85  \n",
      "   4    |    -    |   0.770969   |  0.828931  |   80.85  \n",
      "   5    |    -    |   0.770736   |  0.828931  |   80.85  \n",
      "   6    |    -    |   0.771517   |  0.828931  |   80.85  \n",
      "   7    |    -    |   0.771785   |  0.828931  |   80.85  \n",
      "   8    |    -    |   0.771283   |  0.828931  |   80.85  \n",
      "   9    |    -    |   0.771739   |  0.828931  |   80.85  \n",
      "  10    |    -    |   0.771302   |  0.828931  |   80.85  \n",
      "  11    |    -    |   0.770045   |  0.828931  |   80.85  \n",
      "  12    |    -    |   0.772232   |  0.828931  |   80.85  \n",
      "  13    |    -    |   0.771612   |  0.828931  |   80.85  \n",
      "  14    |    -    |   0.771495   |  0.828931  |   80.85  \n",
      "  15    |    -    |   0.771346   |  0.828931  |   80.85  \n",
      "  16    |    -    |   0.771279   |  0.828931  |   80.85  \n",
      "  17    |    -    |   0.771380   |  0.828931  |   80.85  \n",
      "  18    |    -    |   0.770893   |  0.828931  |   80.85  \n",
      "  19    |    -    |   0.771152   |  0.828931  |   80.85  \n",
      "  20    |    -    |   0.771381   |  0.828931  |   80.85  \n",
      "Training complete!\n"
     ]
    }
   ],
   "source": [
    "set_seed(42)    # Set seed for reproducibility\n",
    "net, optimizer,scheduler = initialize_model(device, epochs=2)\n",
    "train(net, dataloaders['train'], dataloaders['val'], epochs=20, evaluation=True)"
   ],
   "metadata": {
    "collapsed": false,
    "pycharm": {
     "name": "#%%\n"
    }
   }
  },
  {
   "cell_type": "code",
   "execution_count": null,
   "outputs": [],
   "source": [
    "# torch.cuda.memory_stats()"
   ],
   "metadata": {
    "collapsed": false,
    "pycharm": {
     "name": "#%%\n"
    }
   }
  },
  {
   "cell_type": "markdown",
   "source": [],
   "metadata": {
    "collapsed": false,
    "id": "Xdyv6DLdBwO5",
    "pycharm": {
     "name": "#%% md\n"
    }
   }
  },
  {
   "cell_type": "code",
   "execution_count": 539,
   "outputs": [
    {
     "name": "stderr",
     "output_type": "stream",
     "text": [
      "<ipython-input-534-afbeb48bc014>:74: UserWarning: Implicit dimension choice for softmax has been deprecated. Change the call to include dim=X as an argument.\n",
      "  return self.act(logit)\n"
     ]
    },
    {
     "name": "stdout",
     "output_type": "stream",
     "text": [
      "Acc: 80.66, Loss:  0.830403  \n",
      "              precision    recall  f1-score   support\n",
      "\n",
      "         NEU       0.76      0.83      0.79     14228\n",
      "         NEG       0.63      0.63      0.63      9195\n",
      "         POS       0.69      0.32      0.44      2609\n",
      "\n",
      "   micro avg       0.71      0.71      0.71     26032\n",
      "   macro avg       0.69      0.59      0.62     26032\n",
      "weighted avg       0.71      0.71      0.70     26032\n",
      " samples avg       0.71      0.71      0.71     26032\n",
      "\n"
     ]
    },
    {
     "name": "stderr",
     "output_type": "stream",
     "text": [
      "/home/amber/anaconda3/lib/python3.8/site-packages/sklearn/metrics/_classification.py:1318: UndefinedMetricWarning: Precision and F-score are ill-defined and being set to 0.0 in samples with no predicted labels. Use `zero_division` parameter to control this behavior.\n",
      "  _warn_prf(average, modifier, msg_start, len(result))\n"
     ]
    }
   ],
   "source": [
    "import torch.nn.functional as F\n",
    "\n",
    "def cnn_predict(model, test_dataloader):\n",
    "    \"\"\"Perform a forward pass on the trained BERT model to predict probabilities\n",
    "    on the test set.\n",
    "    \"\"\"\n",
    "    # Put the model into the evaluation mode. The dropout layers are disabled during\n",
    "    # the test time.\n",
    "    model.eval()\n",
    "\n",
    "    all_logits = []\n",
    "    all_labels = []\n",
    "    test_loss = []\n",
    "    test_accuracy = []\n",
    "\n",
    "    # For each batch in our test set...\n",
    "    for batch in test_dataloader:\n",
    "        # Load batch to GPU\n",
    "        if(device):\n",
    "            inputs, labels = tuple(t.to(torch.device(\"cuda:0\")) for t in batch)\n",
    "            inputs, labels = inputs.cuda(), labels.cuda()\n",
    "\n",
    "        # Compute logits\n",
    "        with torch.no_grad():\n",
    "            logits = model(inputs)\n",
    "        pred = torch.round(logits)\n",
    "        all_labels.append(labels)\n",
    "        all_logits.append(pred)\n",
    "        # Compute loss\n",
    "        loss = criterion(logits, labels.float())\n",
    "        test_loss.append(loss.item())\n",
    "\n",
    "        # Get the predictions\n",
    "        preds = torch.round(logits)\n",
    "\n",
    "        # Calculate the accuracy rate\n",
    "        accuracy = (preds == labels).cpu().numpy().mean() * 100\n",
    "        test_accuracy.append(accuracy)\n",
    "\n",
    "    # Compute the average accuracy and loss over the validation set.\n",
    "    test_loss = np.mean(test_loss)\n",
    "    test_accuracy = np.mean(test_accuracy)\n",
    "\n",
    "    # Concatenate logits from each batch\n",
    "    all_logits = torch.cat(all_logits, dim=0)\n",
    "    all_labels = torch.cat(all_labels, dim=0)\n",
    "\n",
    "    all_logits = all_logits.to(\"cpu\").detach().numpy()\n",
    "    all_labels = all_labels.to(\"cpu\").detach().numpy()\n",
    "\n",
    "    # Apply softmax to calculate probabilities\n",
    "    #probs = F.softmax(all_logits, dim=1).cpu().numpy()\n",
    "\n",
    "    return all_logits,all_labels, test_loss, test_accuracy\n",
    "\n",
    "\n",
    "\n",
    "# Compute predicted probabilities on the test set\n",
    "probs, labels, test_loss, test_accuracy = cnn_predict(net, dataloaders['test'])\n",
    "print(f'Acc: {test_accuracy:^.2f}, Loss: {test_loss:^10.6f} ')\n",
    "c_report = classification_report(labels, probs, target_names=['NEU', 'NEG', 'POS'])\n",
    "print(c_report)"
   ],
   "metadata": {
    "collapsed": false,
    "pycharm": {
     "name": "#%%\n"
    }
   }
  },
  {
   "cell_type": "code",
   "execution_count": 540,
   "outputs": [],
   "source": [
    "# print(type(probs))\n",
    "# print(type(labels))"
   ],
   "metadata": {
    "collapsed": false,
    "pycharm": {
     "name": "#%%\n"
    }
   }
  },
  {
   "cell_type": "code",
   "execution_count": 541,
   "outputs": [],
   "source": [
    "# print(type(probs.astype(int)))"
   ],
   "metadata": {
    "collapsed": false,
    "pycharm": {
     "name": "#%%\n"
    }
   }
  },
  {
   "cell_type": "code",
   "execution_count": 542,
   "outputs": [],
   "source": [
    "pred = np.argmax(probs, axis=1)\n",
    "# label\n",
    "y_train = np.argmax(labels, axis=1)"
   ],
   "metadata": {
    "collapsed": false,
    "pycharm": {
     "name": "#%%\n"
    }
   }
  },
  {
   "cell_type": "code",
   "execution_count": 543,
   "outputs": [
    {
     "name": "stdout",
     "output_type": "stream",
     "text": [
      "[[11828  2227   173]\n",
      " [ 3210  5783   202]\n",
      " [  672  1106   831]]\n"
     ]
    }
   ],
   "source": [
    "from sklearn.metrics import confusion_matrix\n",
    "def get_confusion_matrix(trues, preds):\n",
    "  labels = [0,1,2]\n",
    "  conf_matrix = confusion_matrix(y_true= trues, y_pred = preds, labels = labels)\n",
    "  return conf_matrix\n",
    "def plot_confusion_matrix(conf_matrix):\n",
    "  plt.imshow(conf_matrix, cmap=plt.cm.Blues_r)\n",
    "  indices = range(conf_matrix.shape[0])\n",
    "  labels = [0, 1,2]\n",
    "  plt.xticks(indices, labels)\n",
    "  plt.yticks(indices, labels)\n",
    "  plt.colorbar()\n",
    "  plt.xlabel('y_pred')\n",
    "  plt.ylabel('y_true')\n",
    "  # 显示数据\n",
    "  for first_index in range(conf_matrix.shape[0]):\n",
    "    for second_index in range(conf_matrix.shape[1]):\n",
    "      plt.text(first_index, second_index, conf_matrix[first_index, second_index])\n",
    "  plt.savefig('heatmap_confusion_matrix.jpg')\n",
    "  plt.show()\n",
    "\n",
    "conf_matrix = get_confusion_matrix(y_train, pred)\n",
    "print(conf_matrix)"
   ],
   "metadata": {
    "collapsed": false,
    "pycharm": {
     "name": "#%%\n"
    }
   }
  },
  {
   "cell_type": "code",
   "execution_count": 544,
   "outputs": [
    {
     "name": "stderr",
     "output_type": "stream",
     "text": [
      "<ipython-input-543-226f84877c92>:12: MatplotlibDeprecationWarning: Auto-removal of grids by pcolor() and pcolormesh() is deprecated since 3.5 and will be removed two minor releases later; please call grid(False) first.\n",
      "  plt.colorbar()\n"
     ]
    },
    {
     "data": {
      "text/plain": "<Figure size 432x288 with 2 Axes>",
      "image/png": "[encoded data removed]"
     },
     "metadata": {},
     "output_type": "display_data"
    }
   ],
   "source": [
    "plot_confusion_matrix(conf_matrix)"
   ],
   "metadata": {
    "collapsed": false,
    "pycharm": {
     "name": "#%%\n"
    }
   }
  },
  {
   "cell_type": "code",
   "execution_count": 545,
   "outputs": [
    {
     "data": {
      "text/plain": "[[1, 0, 0],\n [1, 0, 0],\n [0, 0, 1],\n [0, 1, 0],\n [1, 0, 0],\n [0, 0, 1],\n [0, 1, 0],\n [0, 1, 0],\n [0, 1, 0],\n [0, 1, 0],\n [1, 0, 0],\n [0, 1, 0],\n [1, 0, 0],\n [1, 0, 0],\n [0, 0, 1],\n [0, 1, 0],\n [0, 1, 0],\n [0, 0, 0],\n [1, 0, 0],\n [0, 0, 1],\n [0, 0, 0],\n [0, 0, 1],\n [1, 0, 0],\n [0, 0, 1],\n [1, 0, 0],\n [0, 1, 0],\n [0, 1, 0],\n [1, 0, 0],\n [1, 0, 0],\n [0, 1, 0],\n [1, 0, 0],\n [1, 0, 0],\n [0, 1, 0],\n [1, 0, 0],\n [1, 0, 0],\n [0, 1, 0],\n [1, 0, 0],\n [1, 0, 0],\n [0, 1, 0],\n [1, 0, 0],\n [0, 1, 0],\n [0, 0, 1],\n [1, 0, 0],\n [0, 1, 0],\n [0, 1, 0],\n [0, 1, 0],\n [0, 1, 0],\n [1, 0, 0],\n [1, 0, 0],\n [0, 1, 0],\n [1, 0, 0],\n [1, 0, 0],\n [0, 1, 0],\n [1, 0, 0],\n [1, 0, 0],\n [1, 0, 0],\n [1, 0, 0],\n [0, 1, 0],\n [1, 0, 0],\n [0, 1, 0],\n [0, 1, 0],\n [0, 1, 0],\n [1, 0, 0],\n [1, 0, 0],\n [0, 1, 0],\n [0, 1, 0],\n [1, 0, 0],\n [1, 0, 0],\n [1, 0, 0],\n [0, 1, 0],\n [1, 0, 0],\n [1, 0, 0],\n [0, 1, 0],\n [1, 0, 0],\n [0, 1, 0],\n [0, 1, 0],\n [0, 1, 0],\n [0, 1, 0],\n [0, 1, 0],\n [0, 0, 1],\n [0, 1, 0],\n [0, 1, 0],\n [0, 1, 0],\n [0, 1, 0],\n [0, 1, 0],\n [0, 1, 0],\n [1, 0, 0],\n [1, 0, 0],\n [1, 0, 0],\n [0, 1, 0],\n [1, 0, 0],\n [1, 0, 0],\n [0, 1, 0],\n [1, 0, 0],\n [1, 0, 0],\n [0, 1, 0],\n [0, 0, 1],\n [1, 0, 0],\n [1, 0, 0],\n [1, 0, 0],\n [1, 0, 0],\n [0, 1, 0],\n [1, 0, 0],\n [1, 0, 0],\n [1, 0, 0],\n [1, 0, 0],\n [1, 0, 0],\n [0, 1, 0],\n [1, 0, 0],\n [0, 1, 0],\n [0, 1, 0],\n [0, 1, 0],\n [1, 0, 0],\n [0, 1, 0],\n [1, 0, 0],\n [1, 0, 0],\n [1, 0, 0],\n [1, 0, 0],\n [1, 0, 0],\n [1, 0, 0],\n [0, 1, 0],\n [1, 0, 0],\n [1, 0, 0],\n [0, 1, 0],\n [0, 1, 0],\n [1, 0, 0],\n [1, 0, 0],\n [0, 0, 1],\n [1, 0, 0],\n [1, 0, 0],\n [1, 0, 0],\n [1, 0, 0],\n [0, 1, 0],\n [0, 1, 0],\n [1, 0, 0],\n [1, 0, 0],\n [1, 0, 0],\n [1, 0, 0],\n [0, 1, 0],\n [1, 0, 0],\n [0, 1, 0],\n [0, 1, 0],\n [0, 1, 0],\n [0, 1, 0],\n [1, 0, 0],\n [1, 0, 0],\n [0, 1, 0],\n [1, 0, 0],\n [1, 0, 0],\n [1, 0, 0],\n [0, 1, 0],\n [1, 0, 0],\n [1, 0, 0],\n [1, 0, 0],\n [0, 0, 0],\n [1, 0, 0],\n [1, 0, 0],\n [1, 0, 0],\n [0, 1, 0],\n [0, 1, 0],\n [0, 1, 0],\n [1, 0, 0],\n [0, 1, 0],\n [1, 0, 0],\n [1, 0, 0],\n [1, 0, 0],\n [0, 1, 0],\n [1, 0, 0],\n [1, 0, 0],\n [1, 0, 0],\n [0, 1, 0],\n [0, 1, 0],\n [1, 0, 0],\n [0, 0, 0],\n [0, 1, 0],\n [1, 0, 0],\n [1, 0, 0],\n [1, 0, 0],\n [1, 0, 0],\n [1, 0, 0],\n [0, 0, 1],\n [1, 0, 0],\n [1, 0, 0],\n [1, 0, 0],\n [1, 0, 0],\n [0, 1, 0],\n [0, 1, 0],\n [0, 1, 0],\n [1, 0, 0],\n [0, 0, 1],\n [1, 0, 0],\n [1, 0, 0],\n [1, 0, 0],\n [0, 1, 0],\n [1, 0, 0],\n [1, 0, 0],\n [1, 0, 0],\n [1, 0, 0],\n [1, 0, 0],\n [1, 0, 0],\n [1, 0, 0],\n [1, 0, 0],\n [1, 0, 0],\n [0, 1, 0],\n [1, 0, 0],\n [1, 0, 0],\n [1, 0, 0],\n [1, 0, 0],\n [0, 0, 1],\n [0, 1, 0],\n [0, 1, 0],\n [0, 1, 0],\n [1, 0, 0],\n [1, 0, 0],\n [1, 0, 0],\n [0, 1, 0],\n [1, 0, 0],\n [1, 0, 0],\n [1, 0, 0],\n [1, 0, 0],\n [1, 0, 0],\n [1, 0, 0],\n [1, 0, 0],\n [1, 0, 0],\n [0, 1, 0],\n [1, 0, 0],\n [1, 0, 0],\n [1, 0, 0],\n [0, 0, 1],\n [1, 0, 0],\n [1, 0, 0],\n [0, 1, 0],\n [0, 1, 0],\n [1, 0, 0],\n [1, 0, 0],\n [0, 0, 0],\n [0, 0, 1],\n [1, 0, 0],\n [1, 0, 0],\n [1, 0, 0],\n [0, 1, 0],\n [1, 0, 0],\n [0, 1, 0],\n [0, 1, 0],\n [0, 1, 0],\n [0, 1, 0],\n [1, 0, 0],\n [1, 0, 0],\n [0, 1, 0],\n [0, 1, 0],\n [0, 1, 0],\n [0, 1, 0],\n [1, 0, 0],\n [0, 1, 0],\n [1, 0, 0],\n [0, 0, 1],\n [0, 1, 0],\n [1, 0, 0],\n [1, 0, 0],\n [1, 0, 0],\n [0, 1, 0],\n [1, 0, 0],\n [1, 0, 0],\n [1, 0, 0],\n [0, 1, 0],\n [0, 1, 0],\n [1, 0, 0],\n [0, 1, 0],\n [0, 1, 0],\n [1, 0, 0],\n [0, 1, 0],\n [1, 0, 0],\n [0, 1, 0],\n [1, 0, 0],\n [0, 0, 0],\n [1, 0, 0],\n [1, 0, 0],\n [0, 1, 0],\n [1, 0, 0],\n [0, 1, 0],\n [0, 1, 0],\n [1, 0, 0],\n [0, 1, 0],\n [1, 0, 0],\n [1, 0, 0],\n [1, 0, 0],\n [0, 1, 0],\n [1, 0, 0],\n [0, 1, 0],\n [1, 0, 0],\n [1, 0, 0],\n [0, 1, 0],\n [0, 1, 0],\n [1, 0, 0],\n [0, 1, 0],\n [0, 1, 0],\n [0, 1, 0],\n [1, 0, 0],\n [1, 0, 0],\n [0, 0, 0],\n [1, 0, 0],\n [1, 0, 0],\n [1, 0, 0],\n [0, 1, 0],\n [0, 1, 0],\n [0, 1, 0],\n [0, 0, 1],\n [1, 0, 0],\n [1, 0, 0],\n [1, 0, 0],\n [1, 0, 0],\n [1, 0, 0],\n [0, 1, 0],\n [0, 1, 0],\n [1, 0, 0],\n [1, 0, 0],\n [1, 0, 0],\n [1, 0, 0],\n [1, 0, 0],\n [1, 0, 0],\n [1, 0, 0],\n [0, 1, 0],\n [1, 0, 0],\n [1, 0, 0],\n [1, 0, 0],\n [1, 0, 0],\n [0, 0, 1],\n [1, 0, 0],\n [1, 0, 0],\n [0, 1, 0],\n [0, 1, 0],\n [1, 0, 0],\n [1, 0, 0],\n [1, 0, 0],\n [1, 0, 0],\n [1, 0, 0],\n [1, 0, 0],\n [1, 0, 0],\n [1, 0, 0],\n [1, 0, 0],\n [0, 1, 0],\n [0, 1, 0],\n [1, 0, 0],\n [1, 0, 0],\n [0, 1, 0],\n [0, 1, 0],\n [0, 1, 0],\n [1, 0, 0],\n [1, 0, 0],\n [1, 0, 0],\n [1, 0, 0],\n [0, 1, 0],\n [1, 0, 0],\n [0, 0, 1],\n [1, 0, 0],\n [1, 0, 0],\n [1, 0, 0],\n [1, 0, 0],\n [0, 1, 0],\n [0, 1, 0],\n [0, 1, 0],\n [0, 1, 0],\n [1, 0, 0],\n [1, 0, 0],\n [1, 0, 0],\n [1, 0, 0],\n [0, 1, 0],\n [1, 0, 0],\n [0, 1, 0],\n [1, 0, 0],\n [1, 0, 0],\n [1, 0, 0],\n [0, 1, 0],\n [0, 1, 0],\n [1, 0, 0],\n [1, 0, 0],\n [1, 0, 0],\n [1, 0, 0],\n [1, 0, 0],\n [1, 0, 0],\n [0, 0, 0],\n [0, 1, 0],\n [1, 0, 0],\n [0, 1, 0],\n [1, 0, 0],\n [0, 1, 0],\n [0, 1, 0],\n [1, 0, 0],\n [1, 0, 0],\n [0, 1, 0],\n [1, 0, 0],\n [1, 0, 0],\n [1, 0, 0],\n [1, 0, 0],\n [1, 0, 0],\n [0, 1, 0],\n [1, 0, 0],\n [1, 0, 0],\n [0, 1, 0],\n [1, 0, 0],\n [1, 0, 0],\n [1, 0, 0],\n [1, 0, 0],\n [1, 0, 0],\n [1, 0, 0],\n [0, 0, 1],\n [1, 0, 0],\n [0, 1, 0],\n [1, 0, 0],\n [0, 1, 0],\n [1, 0, 0],\n [1, 0, 0],\n [0, 1, 0],\n [0, 1, 0],\n [1, 0, 0],\n [1, 0, 0],\n [1, 0, 0],\n [0, 1, 0],\n [1, 0, 0],\n [0, 1, 0],\n [0, 1, 0],\n [0, 1, 0],\n [1, 0, 0],\n [0, 1, 0],\n [1, 0, 0],\n [1, 0, 0],\n [1, 0, 0],\n [1, 0, 0],\n [1, 0, 0],\n [1, 0, 0],\n [0, 1, 0],\n [1, 0, 0],\n [0, 1, 0],\n [0, 1, 0],\n [0, 1, 0],\n [1, 0, 0],\n [0, 1, 0],\n [0, 1, 0],\n [1, 0, 0],\n [0, 1, 0],\n [1, 0, 0],\n [1, 0, 0],\n [0, 1, 0],\n [0, 1, 0],\n [1, 0, 0],\n [1, 0, 0],\n [1, 0, 0],\n [1, 0, 0],\n [1, 0, 0],\n [1, 0, 0],\n [1, 0, 0],\n [1, 0, 0],\n [1, 0, 0],\n [0, 1, 0],\n [0, 1, 0],\n [1, 0, 0],\n [1, 0, 0],\n [0, 1, 0],\n [1, 0, 0],\n [1, 0, 0],\n [1, 0, 0],\n [0, 1, 0],\n [0, 1, 0],\n [1, 0, 0],\n [1, 0, 0],\n [0, 1, 0],\n [0, 1, 0],\n [0, 1, 0],\n [1, 0, 0],\n [0, 1, 0],\n [1, 0, 0],\n [1, 0, 0],\n [1, 0, 0],\n [1, 0, 0],\n [1, 0, 0],\n [1, 0, 0],\n [1, 0, 0],\n [0, 1, 0],\n [1, 0, 0],\n [0, 0, 1],\n [1, 0, 0],\n [1, 0, 0],\n [1, 0, 0],\n [0, 0, 1],\n [1, 0, 0],\n [1, 0, 0],\n [1, 0, 0],\n [1, 0, 0],\n [0, 1, 0],\n [1, 0, 0],\n [1, 0, 0],\n [1, 0, 0],\n [0, 1, 0],\n [1, 0, 0],\n [0, 1, 0],\n [0, 1, 0],\n [1, 0, 0],\n [1, 0, 0],\n [0, 1, 0],\n [0, 1, 0],\n [0, 1, 0],\n [1, 0, 0],\n [1, 0, 0],\n [0, 1, 0],\n [0, 1, 0],\n [1, 0, 0],\n [1, 0, 0],\n [1, 0, 0],\n [1, 0, 0],\n [1, 0, 0],\n [1, 0, 0],\n [1, 0, 0],\n [1, 0, 0],\n [1, 0, 0],\n [1, 0, 0],\n [1, 0, 0],\n [1, 0, 0],\n [1, 0, 0],\n [0, 1, 0],\n [0, 1, 0],\n [0, 1, 0],\n [0, 1, 0],\n [1, 0, 0],\n [1, 0, 0],\n [1, 0, 0],\n [1, 0, 0],\n [1, 0, 0],\n [1, 0, 0],\n [1, 0, 0],\n [1, 0, 0],\n [1, 0, 0],\n [0, 0, 1],\n [1, 0, 0],\n [1, 0, 0],\n [0, 1, 0],\n [0, 1, 0],\n [1, 0, 0],\n [0, 0, 1],\n [1, 0, 0],\n [0, 1, 0],\n [1, 0, 0],\n [0, 1, 0],\n [0, 1, 0],\n [1, 0, 0],\n [1, 0, 0],\n [0, 1, 0],\n [1, 0, 0],\n [1, 0, 0],\n [1, 0, 0],\n [1, 0, 0],\n [1, 0, 0],\n [1, 0, 0],\n [1, 0, 0],\n [0, 1, 0],\n [1, 0, 0],\n [1, 0, 0],\n [0, 1, 0],\n [0, 1, 0],\n [1, 0, 0],\n [1, 0, 0],\n [1, 0, 0],\n [0, 1, 0],\n [1, 0, 0],\n [0, 1, 0],\n [0, 1, 0],\n [0, 1, 0],\n [1, 0, 0],\n [0, 1, 0],\n [1, 0, 0],\n [0, 1, 0],\n [1, 0, 0],\n [0, 1, 0],\n [1, 0, 0],\n [1, 0, 0],\n [0, 0, 1],\n [1, 0, 0],\n [1, 0, 0],\n [0, 1, 0],\n [0, 1, 0],\n [0, 1, 0],\n [1, 0, 0],\n [0, 1, 0],\n [1, 0, 0],\n [0, 1, 0],\n [1, 0, 0],\n [0, 1, 0],\n [1, 0, 0],\n [1, 0, 0],\n [1, 0, 0],\n [0, 1, 0],\n [0, 1, 0],\n [0, 1, 0],\n [1, 0, 0],\n [1, 0, 0],\n [1, 0, 0],\n [1, 0, 0],\n [0, 1, 0],\n [1, 0, 0],\n [1, 0, 0],\n [1, 0, 0],\n [1, 0, 0],\n [0, 1, 0],\n [1, 0, 0],\n [0, 1, 0],\n [1, 0, 0],\n [1, 0, 0],\n [0, 1, 0],\n [0, 1, 0],\n [1, 0, 0],\n [1, 0, 0],\n [0, 1, 0],\n [0, 1, 0],\n [1, 0, 0],\n [1, 0, 0],\n [1, 0, 0],\n [1, 0, 0],\n [0, 1, 0],\n [0, 1, 0],\n [1, 0, 0],\n [0, 1, 0],\n [1, 0, 0],\n [1, 0, 0],\n [1, 0, 0],\n [0, 1, 0],\n [1, 0, 0],\n [1, 0, 0],\n [1, 0, 0],\n [0, 1, 0],\n [0, 0, 0],\n [0, 1, 0],\n [1, 0, 0],\n [1, 0, 0],\n [1, 0, 0],\n [0, 1, 0],\n [1, 0, 0],\n [1, 0, 0],\n [1, 0, 0],\n [1, 0, 0],\n [1, 0, 0],\n [1, 0, 0],\n [1, 0, 0],\n [1, 0, 0],\n [1, 0, 0],\n [0, 1, 0],\n [1, 0, 0],\n [1, 0, 0],\n [1, 0, 0],\n [1, 0, 0],\n [0, 0, 1],\n [1, 0, 0],\n [0, 1, 0],\n [1, 0, 0],\n [0, 1, 0],\n [1, 0, 0],\n [1, 0, 0],\n [0, 1, 0],\n [0, 1, 0],\n [1, 0, 0],\n [0, 1, 0],\n [0, 1, 0],\n [0, 1, 0],\n [0, 1, 0],\n [0, 1, 0],\n [1, 0, 0],\n [1, 0, 0],\n [1, 0, 0],\n [1, 0, 0],\n [0, 1, 0],\n [1, 0, 0],\n [1, 0, 0],\n [1, 0, 0],\n [1, 0, 0],\n [1, 0, 0],\n [0, 1, 0],\n [1, 0, 0],\n [1, 0, 0],\n [1, 0, 0],\n [0, 1, 0],\n [1, 0, 0],\n [0, 1, 0],\n [1, 0, 0],\n [1, 0, 0],\n [1, 0, 0],\n [1, 0, 0],\n [0, 1, 0],\n [0, 1, 0],\n [1, 0, 0],\n [1, 0, 0],\n [0, 1, 0],\n [1, 0, 0],\n [1, 0, 0],\n [0, 1, 0],\n [0, 1, 0],\n [0, 1, 0],\n [1, 0, 0],\n [1, 0, 0],\n [1, 0, 0],\n [1, 0, 0],\n [0, 1, 0],\n [0, 1, 0],\n [1, 0, 0],\n [1, 0, 0],\n [1, 0, 0],\n [0, 1, 0],\n [1, 0, 0],\n [0, 1, 0],\n [1, 0, 0],\n [1, 0, 0],\n [1, 0, 0],\n [1, 0, 0],\n [1, 0, 0],\n [1, 0, 0],\n [0, 1, 0],\n [1, 0, 0],\n [0, 1, 0],\n [1, 0, 0],\n [1, 0, 0],\n [1, 0, 0],\n [1, 0, 0],\n [1, 0, 0],\n [0, 1, 0],\n [0, 1, 0],\n [0, 0, 1],\n [0, 1, 0],\n [1, 0, 0],\n [1, 0, 0],\n [1, 0, 0],\n [1, 0, 0],\n [1, 0, 0],\n [1, 0, 0],\n [0, 1, 0],\n [1, 0, 0],\n [0, 1, 0],\n [1, 0, 0],\n [1, 0, 0],\n [1, 0, 0],\n [0, 0, 1],\n [1, 0, 0],\n [0, 1, 0],\n [0, 1, 0],\n [1, 0, 0],\n [0, 1, 0],\n [1, 0, 0],\n [1, 0, 0],\n [1, 0, 0],\n [1, 0, 0],\n [0, 1, 0],\n [1, 0, 0],\n [1, 0, 0],\n [1, 0, 0],\n [0, 1, 0],\n [0, 1, 0],\n [1, 0, 0],\n [1, 0, 0],\n [1, 0, 0],\n [0, 1, 0],\n [1, 0, 0],\n [1, 0, 0],\n [0, 1, 0],\n [0, 1, 0],\n [0, 1, 0],\n [1, 0, 0],\n [1, 0, 0],\n [0, 1, 0],\n [0, 1, 0],\n [1, 0, 0],\n [0, 1, 0],\n [1, 0, 0],\n [0, 1, 0],\n [1, 0, 0],\n [1, 0, 0],\n [1, 0, 0],\n [1, 0, 0],\n [0, 0, 1],\n [1, 0, 0],\n [1, 0, 0],\n [1, 0, 0],\n [0, 0, 1],\n [1, 0, 0],\n [0, 1, 0],\n [1, 0, 0],\n [0, 1, 0],\n [1, 0, 0],\n [1, 0, 0],\n [1, 0, 0],\n [1, 0, 0],\n [1, 0, 0],\n [0, 1, 0],\n [1, 0, 0],\n [1, 0, 0],\n [1, 0, 0],\n [1, 0, 0],\n [0, 0, 1],\n [1, 0, 0],\n [1, 0, 0],\n [1, 0, 0],\n [1, 0, 0],\n [1, 0, 0],\n [0, 1, 0],\n [0, 0, 1],\n [1, 0, 0],\n [0, 1, 0],\n [0, 1, 0],\n [1, 0, 0],\n [0, 1, 0],\n [1, 0, 0],\n [1, 0, 0],\n [0, 1, 0],\n [1, 0, 0],\n [1, 0, 0],\n [1, 0, 0],\n [1, 0, 0],\n [0, 1, 0],\n [1, 0, 0],\n [1, 0, 0],\n [1, 0, 0],\n [1, 0, 0],\n [1, 0, 0],\n [1, 0, 0],\n [1, 0, 0],\n [0, 1, 0],\n [1, 0, 0],\n [1, 0, 0],\n [0, 1, 0],\n [1, 0, 0],\n [1, 0, 0],\n [1, 0, 0],\n [0, 1, 0],\n [1, 0, 0],\n [1, 0, 0],\n [1, 0, 0],\n [0, 1, 0],\n [0, 1, 0],\n [0, 1, 0],\n [1, 0, 0],\n [1, 0, 0],\n [1, 0, 0],\n [1, 0, 0],\n [0, 1, 0],\n [1, 0, 0],\n [1, 0, 0],\n [0, 1, 0],\n [0, 0, 0],\n [1, 0, 0],\n [1, 0, 0],\n [1, 0, 0],\n [1, 0, 0],\n [0, 1, 0],\n [0, 0, 1],\n [1, 0, 0],\n [1, 0, 0],\n [1, 0, 0],\n [1, 0, 0],\n [1, 0, 0],\n [1, 0, 0],\n [1, 0, 0],\n [1, 0, 0],\n [1, 0, 0],\n [1, 0, 0],\n [0, 0, 1],\n [0, 1, 0],\n [1, 0, 0],\n [1, 0, 0],\n [1, 0, 0],\n [0, 1, 0],\n [0, 0, 1],\n [0, 1, 0],\n [1, 0, 0],\n [1, 0, 0],\n [0, 1, 0],\n [0, 1, 0],\n [1, 0, 0],\n [1, 0, 0],\n [1, 0, 0],\n [0, 1, 0],\n [1, 0, 0],\n [0, 1, 0],\n [0, 1, 0],\n [1, 0, 0],\n [0, 0, 0],\n [1, 0, 0],\n [1, 0, 0],\n [0, 1, 0],\n [0, 0, 0],\n [1, 0, 0],\n [1, 0, 0],\n [1, 0, 0],\n [1, 0, 0],\n [1, 0, 0],\n [0, 1, 0],\n [1, 0, 0],\n [1, 0, 0],\n [1, 0, 0],\n [1, 0, 0],\n [0, 1, 0],\n [1, 0, 0],\n [1, 0, 0],\n [0, 1, 0],\n [0, 1, 0],\n [0, 1, 0],\n [0, 1, 0],\n [1, 0, 0],\n [1, 0, 0],\n [0, 1, 0],\n [1, 0, 0],\n [0, 1, 0],\n [1, 0, 0],\n [1, 0, 0],\n [0, 1, 0],\n [1, 0, 0],\n [1, 0, 0],\n [1, 0, 0],\n [1, 0, 0],\n [1, 0, 0],\n [0, 1, 0],\n [1, 0, 0],\n [1, 0, 0],\n [1, 0, 0],\n [0, 0, 1],\n [1, 0, 0],\n [1, 0, 0],\n [0, 1, 0],\n [1, 0, 0],\n [1, 0, 0],\n [1, 0, 0],\n [1, 0, 0],\n [0, 1, 0],\n [0, 1, 0],\n [0, 0, 1],\n [0, 1, 0],\n [1, 0, 0],\n [0, 1, 0],\n [0, 1, 0],\n [1, 0, 0],\n [1, 0, 0],\n [0, 1, 0],\n [0, 1, 0],\n [1, 0, 0],\n [0, 1, 0],\n [0, 1, 0],\n [1, 0, 0],\n [0, 1, 0],\n [1, 0, 0],\n [1, 0, 0],\n [1, 0, 0],\n [0, 1, 0],\n [0, 1, 0],\n [1, 0, 0],\n [1, 0, 0],\n [1, 0, 0],\n [0, 1, 0],\n [1, 0, 0],\n [0, 1, 0],\n [1, 0, 0],\n [1, 0, 0],\n [1, 0, 0],\n [0, 1, 0],\n [0, 1, 0],\n [0, 1, 0],\n [1, 0, 0],\n [1, 0, 0],\n [0, 1, 0],\n [1, 0, 0],\n [0, 1, 0],\n [0, 1, 0],\n [1, 0, 0],\n [1, 0, 0],\n [1, 0, 0],\n [1, 0, 0],\n [1, 0, 0],\n [0, 1, 0],\n [0, 0, 1],\n [1, 0, 0],\n [1, 0, 0],\n [1, 0, 0],\n [1, 0, 0],\n [1, 0, 0],\n [1, 0, 0],\n [1, 0, 0],\n [0, 1, 0],\n [1, 0, 0],\n [1, 0, 0],\n [1, 0, 0],\n [0, 1, 0],\n [1, 0, 0],\n [1, 0, 0],\n [0, 1, 0],\n [1, 0, 0],\n [0, 1, 0],\n [1, 0, 0],\n [1, 0, 0],\n [0, 0, 1],\n [1, 0, 0],\n [1, 0, 0],\n [1, 0, 0],\n [0, 0, 1],\n [1, 0, 0],\n [1, 0, 0],\n [1, 0, 0],\n [1, 0, 0],\n ...]"
     },
     "execution_count": 545,
     "metadata": {},
     "output_type": "execute_result"
    }
   ],
   "source": [
    "probs = list(probs)\n",
    "\n",
    "def multi_indicator(probs):\n",
    "    int_probs = []\n",
    "    probs_i = []\n",
    "    for i in probs:\n",
    "        for j in i:\n",
    "            j =int(j)\n",
    "            int_probs.append(j)\n",
    "        probs_i.append(int_probs)\n",
    "        int_probs = []\n",
    "    return probs_i\n",
    "\n",
    "probs_i = multi_indicator(probs)\n",
    "probs_i\n"
   ],
   "metadata": {
    "collapsed": false,
    "pycharm": {
     "name": "#%%\n"
    }
   }
  },
  {
   "cell_type": "code",
   "execution_count": 546,
   "outputs": [
    {
     "data": {
      "text/plain": "[[1, 0, 0],\n [1, 0, 0],\n [0, 0, 1],\n [1, 0, 0],\n [1, 0, 0],\n [0, 0, 1],\n [1, 0, 0],\n [1, 0, 0],\n [0, 1, 0],\n [0, 1, 0],\n [0, 1, 0],\n [0, 1, 0],\n [1, 0, 0],\n [1, 0, 0],\n [0, 1, 0],\n [0, 1, 0],\n [0, 1, 0],\n [0, 1, 0],\n [1, 0, 0],\n [0, 0, 1],\n [0, 1, 0],\n [0, 0, 1],\n [0, 1, 0],\n [0, 1, 0],\n [1, 0, 0],\n [0, 1, 0],\n [0, 1, 0],\n [1, 0, 0],\n [1, 0, 0],\n [0, 1, 0],\n [0, 1, 0],\n [0, 1, 0],\n [1, 0, 0],\n [1, 0, 0],\n [1, 0, 0],\n [0, 1, 0],\n [1, 0, 0],\n [1, 0, 0],\n [0, 1, 0],\n [1, 0, 0],\n [0, 0, 1],\n [0, 0, 1],\n [1, 0, 0],\n [1, 0, 0],\n [1, 0, 0],\n [1, 0, 0],\n [0, 0, 1],\n [1, 0, 0],\n [1, 0, 0],\n [0, 1, 0],\n [1, 0, 0],\n [1, 0, 0],\n [0, 1, 0],\n [0, 1, 0],\n [1, 0, 0],\n [1, 0, 0],\n [1, 0, 0],\n [1, 0, 0],\n [1, 0, 0],\n [0, 0, 1],\n [0, 1, 0],\n [0, 1, 0],\n [0, 1, 0],\n [0, 1, 0],\n [0, 1, 0],\n [0, 1, 0],\n [1, 0, 0],\n [1, 0, 0],\n [1, 0, 0],\n [0, 1, 0],\n [0, 1, 0],\n [1, 0, 0],\n [0, 1, 0],\n [1, 0, 0],\n [1, 0, 0],\n [1, 0, 0],\n [1, 0, 0],\n [0, 1, 0],\n [0, 1, 0],\n [1, 0, 0],\n [0, 1, 0],\n [0, 1, 0],\n [0, 1, 0],\n [1, 0, 0],\n [0, 0, 1],\n [0, 1, 0],\n [0, 1, 0],\n [1, 0, 0],\n [0, 1, 0],\n [0, 1, 0],\n [1, 0, 0],\n [1, 0, 0],\n [0, 0, 1],\n [1, 0, 0],\n [1, 0, 0],\n [1, 0, 0],\n [0, 0, 1],\n [1, 0, 0],\n [0, 1, 0],\n [0, 1, 0],\n [1, 0, 0],\n [0, 1, 0],\n [1, 0, 0],\n [0, 1, 0],\n [1, 0, 0],\n [0, 0, 1],\n [1, 0, 0],\n [0, 1, 0],\n [1, 0, 0],\n [0, 1, 0],\n [0, 1, 0],\n [0, 1, 0],\n [1, 0, 0],\n [1, 0, 0],\n [1, 0, 0],\n [1, 0, 0],\n [0, 1, 0],\n [0, 1, 0],\n [1, 0, 0],\n [1, 0, 0],\n [0, 1, 0],\n [0, 1, 0],\n [1, 0, 0],\n [1, 0, 0],\n [0, 1, 0],\n [0, 1, 0],\n [0, 0, 1],\n [0, 0, 1],\n [1, 0, 0],\n [1, 0, 0],\n [0, 1, 0],\n [1, 0, 0],\n [1, 0, 0],\n [0, 1, 0],\n [0, 0, 1],\n [1, 0, 0],\n [1, 0, 0],\n [1, 0, 0],\n [0, 1, 0],\n [0, 1, 0],\n [0, 1, 0],\n [0, 1, 0],\n [0, 1, 0],\n [0, 1, 0],\n [1, 0, 0],\n [0, 1, 0],\n [1, 0, 0],\n [0, 1, 0],\n [1, 0, 0],\n [1, 0, 0],\n [0, 1, 0],\n [1, 0, 0],\n [0, 1, 0],\n [1, 0, 0],\n [0, 1, 0],\n [1, 0, 0],\n [1, 0, 0],\n [1, 0, 0],\n [0, 1, 0],\n [0, 1, 0],\n [0, 1, 0],\n [1, 0, 0],\n [0, 1, 0],\n [1, 0, 0],\n [1, 0, 0],\n [0, 1, 0],\n [0, 1, 0],\n [1, 0, 0],\n [1, 0, 0],\n [1, 0, 0],\n [0, 1, 0],\n [0, 0, 1],\n [0, 1, 0],\n [0, 1, 0],\n [0, 1, 0],\n [1, 0, 0],\n [1, 0, 0],\n [0, 0, 1],\n [1, 0, 0],\n [1, 0, 0],\n [0, 1, 0],\n [1, 0, 0],\n [0, 1, 0],\n [0, 1, 0],\n [1, 0, 0],\n [0, 1, 0],\n [0, 1, 0],\n [0, 1, 0],\n [1, 0, 0],\n [0, 0, 1],\n [1, 0, 0],\n [1, 0, 0],\n [1, 0, 0],\n [0, 1, 0],\n [1, 0, 0],\n [0, 1, 0],\n [1, 0, 0],\n [0, 1, 0],\n [1, 0, 0],\n [0, 1, 0],\n [1, 0, 0],\n [1, 0, 0],\n [1, 0, 0],\n [0, 1, 0],\n [1, 0, 0],\n [1, 0, 0],\n [1, 0, 0],\n [1, 0, 0],\n [0, 1, 0],\n [1, 0, 0],\n [0, 1, 0],\n [0, 1, 0],\n [1, 0, 0],\n [1, 0, 0],\n [1, 0, 0],\n [0, 0, 1],\n [1, 0, 0],\n [1, 0, 0],\n [1, 0, 0],\n [1, 0, 0],\n [1, 0, 0],\n [1, 0, 0],\n [1, 0, 0],\n [1, 0, 0],\n [0, 1, 0],\n [0, 0, 1],\n [1, 0, 0],\n [1, 0, 0],\n [0, 1, 0],\n [0, 1, 0],\n [1, 0, 0],\n [0, 1, 0],\n [1, 0, 0],\n [1, 0, 0],\n [1, 0, 0],\n [0, 0, 1],\n [0, 0, 1],\n [1, 0, 0],\n [1, 0, 0],\n [1, 0, 0],\n [1, 0, 0],\n [1, 0, 0],\n [0, 1, 0],\n [1, 0, 0],\n [0, 1, 0],\n [0, 1, 0],\n [1, 0, 0],\n [0, 0, 1],\n [0, 1, 0],\n [0, 0, 1],\n [0, 1, 0],\n [1, 0, 0],\n [1, 0, 0],\n [0, 0, 1],\n [1, 0, 0],\n [0, 0, 1],\n [0, 1, 0],\n [1, 0, 0],\n [0, 1, 0],\n [1, 0, 0],\n [0, 1, 0],\n [1, 0, 0],\n [1, 0, 0],\n [0, 1, 0],\n [0, 1, 0],\n [0, 1, 0],\n [0, 1, 0],\n [0, 1, 0],\n [1, 0, 0],\n [0, 1, 0],\n [0, 1, 0],\n [1, 0, 0],\n [0, 1, 0],\n [1, 0, 0],\n [1, 0, 0],\n [1, 0, 0],\n [1, 0, 0],\n [0, 1, 0],\n [0, 1, 0],\n [0, 1, 0],\n [0, 1, 0],\n [1, 0, 0],\n [0, 1, 0],\n [1, 0, 0],\n [1, 0, 0],\n [1, 0, 0],\n [1, 0, 0],\n [1, 0, 0],\n [1, 0, 0],\n [0, 1, 0],\n [1, 0, 0],\n [0, 1, 0],\n [0, 1, 0],\n [1, 0, 0],\n [0, 1, 0],\n [0, 1, 0],\n [0, 1, 0],\n [0, 1, 0],\n [1, 0, 0],\n [0, 0, 1],\n [1, 0, 0],\n [1, 0, 0],\n [1, 0, 0],\n [0, 1, 0],\n [0, 1, 0],\n [0, 1, 0],\n [0, 0, 1],\n [1, 0, 0],\n [1, 0, 0],\n [1, 0, 0],\n [1, 0, 0],\n [1, 0, 0],\n [0, 1, 0],\n [0, 1, 0],\n [0, 1, 0],\n [1, 0, 0],\n [1, 0, 0],\n [1, 0, 0],\n [1, 0, 0],\n [1, 0, 0],\n [1, 0, 0],\n [0, 1, 0],\n [0, 0, 1],\n [0, 1, 0],\n [1, 0, 0],\n [0, 0, 1],\n [1, 0, 0],\n [1, 0, 0],\n [1, 0, 0],\n [1, 0, 0],\n [0, 1, 0],\n [1, 0, 0],\n [1, 0, 0],\n [1, 0, 0],\n [1, 0, 0],\n [1, 0, 0],\n [0, 1, 0],\n [1, 0, 0],\n [1, 0, 0],\n [0, 1, 0],\n [1, 0, 0],\n [0, 1, 0],\n [0, 1, 0],\n [0, 1, 0],\n [1, 0, 0],\n [1, 0, 0],\n [1, 0, 0],\n [1, 0, 0],\n [1, 0, 0],\n [1, 0, 0],\n [1, 0, 0],\n [0, 1, 0],\n [0, 0, 1],\n [0, 0, 1],\n [1, 0, 0],\n [1, 0, 0],\n [1, 0, 0],\n [0, 0, 1],\n [0, 1, 0],\n [1, 0, 0],\n [0, 1, 0],\n [0, 1, 0],\n [1, 0, 0],\n [1, 0, 0],\n [0, 1, 0],\n [0, 1, 0],\n [0, 1, 0],\n [1, 0, 0],\n [1, 0, 0],\n [1, 0, 0],\n [1, 0, 0],\n [1, 0, 0],\n [1, 0, 0],\n [1, 0, 0],\n [1, 0, 0],\n [0, 0, 1],\n [1, 0, 0],\n [0, 1, 0],\n [0, 1, 0],\n [0, 1, 0],\n [0, 1, 0],\n [0, 1, 0],\n [1, 0, 0],\n [1, 0, 0],\n [1, 0, 0],\n [0, 1, 0],\n [0, 0, 1],\n [1, 0, 0],\n [0, 1, 0],\n [1, 0, 0],\n [1, 0, 0],\n [0, 1, 0],\n [1, 0, 0],\n [1, 0, 0],\n [1, 0, 0],\n [0, 1, 0],\n [1, 0, 0],\n [1, 0, 0],\n [1, 0, 0],\n [1, 0, 0],\n [1, 0, 0],\n [1, 0, 0],\n [0, 1, 0],\n [0, 1, 0],\n [1, 0, 0],\n [0, 0, 1],\n [1, 0, 0],\n [0, 1, 0],\n [1, 0, 0],\n [1, 0, 0],\n [0, 1, 0],\n [1, 0, 0],\n [0, 1, 0],\n [0, 1, 0],\n [0, 1, 0],\n [1, 0, 0],\n [1, 0, 0],\n [0, 1, 0],\n [1, 0, 0],\n [1, 0, 0],\n [0, 1, 0],\n [0, 1, 0],\n [1, 0, 0],\n [0, 1, 0],\n [1, 0, 0],\n [1, 0, 0],\n [1, 0, 0],\n [1, 0, 0],\n [1, 0, 0],\n [1, 0, 0],\n [1, 0, 0],\n [1, 0, 0],\n [0, 1, 0],\n [0, 1, 0],\n [0, 1, 0],\n [1, 0, 0],\n [0, 1, 0],\n [0, 1, 0],\n [0, 1, 0],\n [0, 1, 0],\n [0, 1, 0],\n [0, 1, 0],\n [0, 1, 0],\n [0, 0, 1],\n [1, 0, 0],\n [1, 0, 0],\n [1, 0, 0],\n [0, 1, 0],\n [1, 0, 0],\n [1, 0, 0],\n [1, 0, 0],\n [1, 0, 0],\n [1, 0, 0],\n [0, 1, 0],\n [0, 1, 0],\n [1, 0, 0],\n [1, 0, 0],\n [0, 1, 0],\n [1, 0, 0],\n [1, 0, 0],\n [0, 0, 1],\n [0, 1, 0],\n [0, 1, 0],\n [1, 0, 0],\n [1, 0, 0],\n [0, 0, 1],\n [0, 0, 1],\n [1, 0, 0],\n [1, 0, 0],\n [1, 0, 0],\n [1, 0, 0],\n [0, 1, 0],\n [1, 0, 0],\n [1, 0, 0],\n [1, 0, 0],\n [1, 0, 0],\n [1, 0, 0],\n [0, 0, 1],\n [1, 0, 0],\n [0, 0, 1],\n [1, 0, 0],\n [1, 0, 0],\n [1, 0, 0],\n [0, 0, 1],\n [1, 0, 0],\n [1, 0, 0],\n [1, 0, 0],\n [1, 0, 0],\n [1, 0, 0],\n [0, 1, 0],\n [1, 0, 0],\n [1, 0, 0],\n [0, 1, 0],\n [1, 0, 0],\n [1, 0, 0],\n [0, 0, 1],\n [0, 1, 0],\n [0, 1, 0],\n [0, 1, 0],\n [1, 0, 0],\n [0, 0, 1],\n [1, 0, 0],\n [1, 0, 0],\n [0, 1, 0],\n [0, 1, 0],\n [1, 0, 0],\n [0, 1, 0],\n [0, 1, 0],\n [1, 0, 0],\n [1, 0, 0],\n [0, 1, 0],\n [0, 1, 0],\n [1, 0, 0],\n [1, 0, 0],\n [1, 0, 0],\n [1, 0, 0],\n [0, 1, 0],\n [0, 1, 0],\n [0, 0, 1],\n [0, 1, 0],\n [0, 1, 0],\n [1, 0, 0],\n [1, 0, 0],\n [1, 0, 0],\n [0, 1, 0],\n [1, 0, 0],\n [1, 0, 0],\n [1, 0, 0],\n [1, 0, 0],\n [1, 0, 0],\n [0, 1, 0],\n [0, 0, 1],\n [0, 1, 0],\n [1, 0, 0],\n [0, 0, 1],\n [0, 1, 0],\n [1, 0, 0],\n [0, 1, 0],\n [1, 0, 0],\n [0, 1, 0],\n [0, 1, 0],\n [0, 1, 0],\n [0, 1, 0],\n [1, 0, 0],\n [1, 0, 0],\n [1, 0, 0],\n [1, 0, 0],\n [1, 0, 0],\n [1, 0, 0],\n [0, 1, 0],\n [1, 0, 0],\n [1, 0, 0],\n [1, 0, 0],\n [1, 0, 0],\n [1, 0, 0],\n [1, 0, 0],\n [0, 1, 0],\n [0, 1, 0],\n [0, 1, 0],\n [1, 0, 0],\n [1, 0, 0],\n [0, 1, 0],\n [1, 0, 0],\n [0, 0, 1],\n [1, 0, 0],\n [0, 1, 0],\n [1, 0, 0],\n [1, 0, 0],\n [1, 0, 0],\n [1, 0, 0],\n [1, 0, 0],\n [0, 1, 0],\n [1, 0, 0],\n [1, 0, 0],\n [0, 0, 1],\n [1, 0, 0],\n [1, 0, 0],\n [0, 1, 0],\n [0, 1, 0],\n [1, 0, 0],\n [1, 0, 0],\n [0, 1, 0],\n [1, 0, 0],\n [0, 1, 0],\n [0, 1, 0],\n [0, 1, 0],\n [0, 1, 0],\n [0, 1, 0],\n [0, 1, 0],\n [0, 0, 1],\n [0, 1, 0],\n [0, 1, 0],\n [1, 0, 0],\n [1, 0, 0],\n [1, 0, 0],\n [1, 0, 0],\n [0, 1, 0],\n [1, 0, 0],\n [1, 0, 0],\n [1, 0, 0],\n [1, 0, 0],\n [0, 1, 0],\n [1, 0, 0],\n [0, 1, 0],\n [0, 1, 0],\n [0, 0, 1],\n [0, 1, 0],\n [0, 1, 0],\n [1, 0, 0],\n [1, 0, 0],\n [0, 0, 1],\n [0, 1, 0],\n [1, 0, 0],\n [1, 0, 0],\n [0, 1, 0],\n [1, 0, 0],\n [0, 0, 1],\n [0, 1, 0],\n [1, 0, 0],\n [0, 1, 0],\n [0, 1, 0],\n [1, 0, 0],\n [1, 0, 0],\n [0, 1, 0],\n [1, 0, 0],\n [1, 0, 0],\n [1, 0, 0],\n [0, 1, 0],\n [0, 0, 1],\n [0, 1, 0],\n [1, 0, 0],\n [0, 1, 0],\n [1, 0, 0],\n [1, 0, 0],\n [1, 0, 0],\n [1, 0, 0],\n [1, 0, 0],\n [1, 0, 0],\n [1, 0, 0],\n [0, 1, 0],\n [1, 0, 0],\n [0, 1, 0],\n [1, 0, 0],\n [0, 1, 0],\n [1, 0, 0],\n [1, 0, 0],\n [1, 0, 0],\n [0, 1, 0],\n [0, 1, 0],\n [1, 0, 0],\n [0, 1, 0],\n [0, 0, 1],\n [1, 0, 0],\n [1, 0, 0],\n [1, 0, 0],\n [0, 1, 0],\n [0, 1, 0],\n [1, 0, 0],\n [0, 1, 0],\n [1, 0, 0],\n [0, 1, 0],\n [1, 0, 0],\n [1, 0, 0],\n [1, 0, 0],\n [1, 0, 0],\n [0, 1, 0],\n [1, 0, 0],\n [0, 0, 1],\n [0, 0, 1],\n [1, 0, 0],\n [1, 0, 0],\n [1, 0, 0],\n [1, 0, 0],\n [0, 0, 1],\n [0, 0, 1],\n [1, 0, 0],\n [1, 0, 0],\n [0, 1, 0],\n [1, 0, 0],\n [0, 1, 0],\n [0, 1, 0],\n [1, 0, 0],\n [1, 0, 0],\n [1, 0, 0],\n [0, 0, 1],\n [0, 1, 0],\n [1, 0, 0],\n [1, 0, 0],\n [0, 1, 0],\n [1, 0, 0],\n [1, 0, 0],\n [0, 1, 0],\n [0, 1, 0],\n [0, 1, 0],\n [1, 0, 0],\n [0, 1, 0],\n [1, 0, 0],\n [1, 0, 0],\n [0, 0, 1],\n [1, 0, 0],\n [1, 0, 0],\n [0, 1, 0],\n [1, 0, 0],\n [0, 1, 0],\n [1, 0, 0],\n [0, 1, 0],\n [1, 0, 0],\n [1, 0, 0],\n [0, 1, 0],\n [1, 0, 0],\n [1, 0, 0],\n [0, 0, 1],\n [0, 1, 0],\n [1, 0, 0],\n [1, 0, 0],\n [1, 0, 0],\n [1, 0, 0],\n [1, 0, 0],\n [1, 0, 0],\n [0, 1, 0],\n [0, 1, 0],\n [0, 1, 0],\n [0, 1, 0],\n [0, 1, 0],\n [1, 0, 0],\n [0, 1, 0],\n [1, 0, 0],\n [1, 0, 0],\n [0, 1, 0],\n [0, 1, 0],\n [0, 1, 0],\n [1, 0, 0],\n [0, 1, 0],\n [0, 1, 0],\n [1, 0, 0],\n [1, 0, 0],\n [0, 0, 1],\n [1, 0, 0],\n [0, 1, 0],\n [0, 1, 0],\n [1, 0, 0],\n [0, 1, 0],\n [1, 0, 0],\n [0, 1, 0],\n [1, 0, 0],\n [0, 1, 0],\n [0, 1, 0],\n [1, 0, 0],\n [1, 0, 0],\n [0, 1, 0],\n [1, 0, 0],\n [0, 1, 0],\n [0, 1, 0],\n [1, 0, 0],\n [1, 0, 0],\n [0, 1, 0],\n [1, 0, 0],\n [1, 0, 0],\n [0, 1, 0],\n [0, 1, 0],\n [0, 1, 0],\n [1, 0, 0],\n [1, 0, 0],\n [0, 0, 1],\n [0, 1, 0],\n [1, 0, 0],\n [0, 1, 0],\n [0, 1, 0],\n [0, 1, 0],\n [1, 0, 0],\n [0, 1, 0],\n [0, 1, 0],\n [1, 0, 0],\n [0, 0, 1],\n [1, 0, 0],\n [1, 0, 0],\n [1, 0, 0],\n [0, 0, 1],\n [1, 0, 0],\n [0, 1, 0],\n [1, 0, 0],\n [1, 0, 0],\n [1, 0, 0],\n [0, 1, 0],\n [1, 0, 0],\n [1, 0, 0],\n [1, 0, 0],\n [1, 0, 0],\n [1, 0, 0],\n [0, 1, 0],\n [1, 0, 0],\n [0, 1, 0],\n [0, 0, 1],\n [0, 1, 0],\n [1, 0, 0],\n [1, 0, 0],\n [1, 0, 0],\n [1, 0, 0],\n [0, 0, 1],\n [0, 0, 1],\n [0, 1, 0],\n [0, 1, 0],\n [1, 0, 0],\n [1, 0, 0],\n [1, 0, 0],\n [1, 0, 0],\n [1, 0, 0],\n [0, 1, 0],\n [1, 0, 0],\n [1, 0, 0],\n [0, 0, 1],\n [1, 0, 0],\n [0, 1, 0],\n [1, 0, 0],\n [1, 0, 0],\n [0, 1, 0],\n [1, 0, 0],\n [1, 0, 0],\n [1, 0, 0],\n [1, 0, 0],\n [1, 0, 0],\n [1, 0, 0],\n [1, 0, 0],\n [0, 1, 0],\n [1, 0, 0],\n [1, 0, 0],\n [1, 0, 0],\n [0, 1, 0],\n [1, 0, 0],\n [1, 0, 0],\n [0, 1, 0],\n [0, 1, 0],\n [1, 0, 0],\n [1, 0, 0],\n [1, 0, 0],\n [1, 0, 0],\n [0, 1, 0],\n [1, 0, 0],\n [0, 1, 0],\n [1, 0, 0],\n [1, 0, 0],\n [1, 0, 0],\n [0, 1, 0],\n [1, 0, 0],\n [1, 0, 0],\n [1, 0, 0],\n [1, 0, 0],\n [1, 0, 0],\n [1, 0, 0],\n [1, 0, 0],\n [1, 0, 0],\n [1, 0, 0],\n [1, 0, 0],\n [1, 0, 0],\n [1, 0, 0],\n [1, 0, 0],\n [1, 0, 0],\n [0, 1, 0],\n [1, 0, 0],\n [0, 0, 1],\n [0, 1, 0],\n [1, 0, 0],\n [1, 0, 0],\n [1, 0, 0],\n [0, 0, 1],\n [0, 0, 1],\n [0, 1, 0],\n [0, 1, 0],\n [1, 0, 0],\n [0, 1, 0],\n [0, 1, 0],\n [0, 1, 0],\n [1, 0, 0],\n [1, 0, 0],\n [1, 0, 0],\n [1, 0, 0],\n [0, 1, 0],\n [0, 1, 0],\n [0, 1, 0],\n [1, 0, 0],\n [0, 1, 0],\n [1, 0, 0],\n [1, 0, 0],\n [0, 0, 1],\n [0, 1, 0],\n [0, 1, 0],\n [0, 1, 0],\n [1, 0, 0],\n [0, 0, 1],\n [0, 1, 0],\n [0, 1, 0],\n [1, 0, 0],\n [1, 0, 0],\n [1, 0, 0],\n [0, 1, 0],\n [1, 0, 0],\n [0, 1, 0],\n [0, 1, 0],\n [0, 1, 0],\n [0, 1, 0],\n [0, 1, 0],\n [1, 0, 0],\n [1, 0, 0],\n [1, 0, 0],\n [1, 0, 0],\n [0, 0, 1],\n [1, 0, 0],\n [1, 0, 0],\n [0, 0, 1],\n [1, 0, 0],\n [1, 0, 0],\n [1, 0, 0],\n [1, 0, 0],\n [1, 0, 0],\n [0, 1, 0],\n [0, 1, 0],\n [1, 0, 0],\n [1, 0, 0],\n [0, 0, 1],\n [0, 1, 0],\n [1, 0, 0],\n [1, 0, 0],\n [0, 1, 0],\n [1, 0, 0],\n [1, 0, 0],\n [1, 0, 0],\n [0, 1, 0],\n [1, 0, 0],\n [0, 0, 1],\n [0, 1, 0],\n [1, 0, 0],\n [0, 1, 0],\n [0, 1, 0],\n [1, 0, 0],\n [0, 1, 0],\n [0, 1, 0],\n [0, 1, 0],\n [1, 0, 0],\n [0, 1, 0],\n [0, 1, 0],\n [1, 0, 0],\n [0, 1, 0],\n [1, 0, 0],\n [1, 0, 0],\n [1, 0, 0],\n [0, 1, 0],\n [0, 1, 0],\n [1, 0, 0],\n [1, 0, 0],\n [1, 0, 0],\n [1, 0, 0],\n [1, 0, 0],\n [0, 1, 0],\n [0, 0, 1],\n [1, 0, 0],\n [1, 0, 0],\n [0, 1, 0],\n [1, 0, 0],\n [1, 0, 0],\n [1, 0, 0],\n [0, 1, 0],\n [1, 0, 0],\n [1, 0, 0],\n [0, 1, 0],\n [0, 1, 0],\n [1, 0, 0],\n [1, 0, 0],\n [0, 0, 1],\n [1, 0, 0],\n [1, 0, 0],\n [0, 1, 0],\n [0, 0, 1],\n [1, 0, 0],\n [1, 0, 0],\n [0, 0, 1],\n [0, 0, 1],\n [1, 0, 0],\n [1, 0, 0],\n [0, 1, 0],\n [0, 1, 0],\n [0, 1, 0],\n [1, 0, 0],\n [1, 0, 0],\n [0, 1, 0],\n [1, 0, 0],\n [1, 0, 0],\n [1, 0, 0],\n [1, 0, 0],\n [1, 0, 0],\n [1, 0, 0],\n [1, 0, 0],\n [0, 0, 1],\n [1, 0, 0],\n [1, 0, 0],\n [0, 1, 0],\n [0, 0, 1],\n [0, 1, 0],\n [1, 0, 0],\n [1, 0, 0],\n [1, 0, 0],\n ...]"
     },
     "execution_count": 546,
     "metadata": {},
     "output_type": "execute_result"
    }
   ],
   "source": [
    "labels = multi_indicator(labels)\n",
    "labels"
   ],
   "metadata": {
    "collapsed": false,
    "pycharm": {
     "name": "#%%\n"
    }
   }
  },
  {
   "cell_type": "code",
   "execution_count": 547,
   "outputs": [],
   "source": [
    "import numpy as np\n",
    "import matplotlib.pyplot as plt\n",
    "from itertools import cycle\n",
    "from sklearn.metrics import roc_curve, auc\n",
    "from scipy import interp\n",
    "\n",
    "def plot_roc(y_score, y_label):\n",
    "    n_classes = len(y_score[0])\n",
    "\n",
    "    # 计算每一类的ROC\n",
    "    fpr = dict()\n",
    "    tpr = dict()\n",
    "    roc_auc = dict()\n",
    "    for i in range(n_classes):\n",
    "        fpr[i], tpr[i], _ = roc_curve(y_label[:, i], y_score[:, i])\n",
    "        roc_auc[i] = auc(fpr[i], tpr[i])\n",
    "\n",
    "    # micro\n",
    "    fpr[\"micro\"], tpr[\"micro\"], _ = roc_curve(y_label.ravel(), y_score.ravel())\n",
    "    roc_auc[\"micro\"] = auc(fpr[\"micro\"], tpr[\"micro\"])\n",
    "\n",
    "    # macro\n",
    "    # First aggregate all false positive rates\n",
    "    all_fpr = np.unique(np.concatenate([fpr[i] for i in range(n_classes)]))\n",
    "    # Then interpolate all ROC curves at this points\n",
    "    mean_tpr = np.zeros_like(all_fpr)\n",
    "    for i in range(n_classes):\n",
    "        mean_tpr += np.interp(all_fpr, fpr[i], tpr[i])\n",
    "    # Finally average it and compute AUC\n",
    "    mean_tpr /= n_classes\n",
    "    fpr[\"macro\"] = all_fpr\n",
    "    tpr[\"macro\"] = mean_tpr\n",
    "    roc_auc[\"macro\"] = auc(fpr[\"macro\"], tpr[\"macro\"])\n",
    "\n",
    "    # Plot all ROC curves\n",
    "    lw=2\n",
    "    plt.figure()\n",
    "    plt.plot(fpr[\"micro\"], tpr[\"micro\"],\n",
    "             label='micro-average ROC curve (area = {0:0.2f})'\n",
    "                   ''.format(roc_auc[\"micro\"]),\n",
    "             color='deeppink', linestyle=':', linewidth=4)\n",
    "\n",
    "    plt.plot(fpr[\"macro\"], tpr[\"macro\"],\n",
    "             label='macro-average ROC curve (area = {0:0.2f})'\n",
    "                   ''.format(roc_auc[\"macro\"]),\n",
    "             color='navy', linestyle=':', linewidth=4)\n",
    "\n",
    "    colors = cycle(['aqua', 'darkorange', 'cornflowerblue'])\n",
    "    for i, color in zip(range(n_classes), colors):\n",
    "        plt.plot(fpr[i], tpr[i], color=color, lw=lw,\n",
    "                 label='ROC curve of class {0} (area = {1:0.2f})'\n",
    "                 ''.format(i, roc_auc[i]))\n",
    "\n",
    "    plt.plot([0, 1], [0, 1], 'k--', lw=lw)\n",
    "    plt.xlim([0.0, 1.0])\n",
    "    plt.ylim([0.0, 1.05])\n",
    "    plt.xlabel('False Positive Rate')\n",
    "    plt.ylabel('True Positive Rate')\n",
    "    plt.title('multi-calss ROC')\n",
    "    plt.legend(loc=\"lower right\")\n",
    "    plt.show()"
   ],
   "metadata": {
    "collapsed": false,
    "pycharm": {
     "name": "#%%\n"
    }
   }
  },
  {
   "cell_type": "code",
   "execution_count": 548,
   "outputs": [
    {
     "data": {
      "text/plain": "<Figure size 432x288 with 1 Axes>",
      "image/png": "[encoded data removed]"
     },
     "metadata": {},
     "output_type": "display_data"
    }
   ],
   "source": [
    "plot_roc(np.array(probs_i), np.array(labels))"
   ],
   "metadata": {
    "collapsed": false,
    "pycharm": {
     "name": "#%%\n"
    }
   }
  },
  {
   "cell_type": "code",
   "execution_count": 550,
   "outputs": [],
   "source": [],
   "metadata": {
    "collapsed": false,
    "pycharm": {
     "name": "#%%\n"
    }
   }
  },
  {
   "cell_type": "code",
   "execution_count": 571,
   "outputs": [],
   "source": [],
   "metadata": {
    "collapsed": false,
    "pycharm": {
     "name": "#%%\n"
    }
   }
  },
  {
   "cell_type": "code",
   "execution_count": null,
   "outputs": [],
   "source": [],
   "metadata": {
    "collapsed": false,
    "pycharm": {
     "name": "#%%\n"
    }
   }
  }
 ],
 "metadata": {
  "kernelspec": {
   "name": "pycharm-282d5b2f",
   "language": "python",
   "display_name": "PyCharm (NLP_Assignments)"
  },
  "language_info": {
   "codemirror_mode": {
    "name": "ipython",
    "version": 2
   },
   "file_extension": ".py",
   "mimetype": "text/x-python",
   "name": "python",
   "nbconvert_exporter": "python",
   "pygments_lexer": "ipython2",
   "version": "2.7.6"
  },
  "colab": {
   "name": "A2.ipynb",
   "provenance": []
  }
 },
 "nbformat": 4,
 "nbformat_minor": 0
}